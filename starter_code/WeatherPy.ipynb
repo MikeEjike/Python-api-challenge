{
 "cells": [
  {
   "cell_type": "markdown",
   "metadata": {},
   "source": [
    "# WeatherPy\n",
    "----\n",
    "\n",
    "#### Note\n",
    "* Instructions have been included for each segment. You do not have to follow them exactly, but they are included to help you think through the steps."
   ]
  },
  {
   "cell_type": "markdown",
   "metadata": {},
   "source": [
    "# Observable Trends\n",
    "The max temp increases the closer you get to latitude = 0 or the equator.\n",
    "\n",
    "The further north or south you go, the higher the wind speed. Meaning the lower wind speeds are closer to the equator.\n",
    "\n",
    "Cloudiness and humidity appear to be unaffected by the latitude, with humidity always being relatively high and cloudiness being uniformly spead out."
   ]
  },
  {
   "cell_type": "code",
   "execution_count": 1,
   "metadata": {
    "scrolled": true
   },
   "outputs": [],
   "source": [
    "# Dependencies and Setup\n",
    "import matplotlib.pyplot as plt\n",
    "import pandas as pd\n",
    "import numpy as np\n",
    "import requests\n",
    "import time\n",
    "from scipy.stats import linregress\n",
    "\n",
    "# Import API key\n",
    "from api_keys import weather_api_key\n",
    " \n",
    "# Incorporated citipy to determine city based on latitude and longitude\n",
    "from citipy import citipy\n",
    "\n",
    "# Output File (CSV)\n",
    "output_data_file = \"../output_data/cities.csv\"\n",
    "\n",
    "# Range of latitudes and longitudes\n",
    "lat_range = (-90, 90)\n",
    "lng_range = (-180, 180)"
   ]
  },
  {
   "cell_type": "markdown",
   "metadata": {},
   "source": [
    "## Generate Cities List"
   ]
  },
  {
   "cell_type": "code",
   "execution_count": 2,
   "metadata": {},
   "outputs": [
    {
     "data": {
      "text/plain": [
       "595"
      ]
     },
     "execution_count": 2,
     "metadata": {},
     "output_type": "execute_result"
    }
   ],
   "source": [
    "# List for holding lat_lngs and cities\n",
    "lat_lngs = []\n",
    "cities = []\n",
    "\n",
    "# Create a set of random lat and lng combinations\n",
    "lats = np.random.uniform(lat_range[0], lat_range[1], size=1500)\n",
    "lngs = np.random.uniform(lng_range[0], lng_range[1], size=1500)\n",
    "lat_lngs = zip(lats, lngs)\n",
    "\n",
    "# Identify nearest city for each lat, lng combination\n",
    "for lat_lng in lat_lngs:\n",
    "    city = citipy.nearest_city(lat_lng[0], lat_lng[1]).city_name\n",
    "    \n",
    "    # If the city is unique, then add it to a our cities list\n",
    "    if city not in cities:\n",
    "        cities.append(city)\n",
    "\n",
    "# Print the city count to confirm sufficient count\n",
    "len(cities)"
   ]
  },
  {
   "cell_type": "markdown",
   "metadata": {},
   "source": [
    "### Perform API Calls\n",
    "* Perform a weather check on each city using a series of successive API calls.\n",
    "* Include a print log of each city as it'sbeing processed (with the city number and city name).\n"
   ]
  },
  {
   "cell_type": "code",
   "execution_count": 4,
   "metadata": {
    "scrolled": true
   },
   "outputs": [
    {
     "name": "stdout",
     "output_type": "stream",
     "text": [
      "Beginning Data Retrieval\n",
      " -----------------------------\n",
      "Processing Record 1 of Set 1 | mackay\n",
      "Processing Record 2 of Set 1 | hobart\n",
      "Processing Record 3 of Set 1 | rikitea\n",
      "Processing Record 4 of Set 1 | vaini\n",
      "Processing Record 5 of Set 1 | nikolskoye\n",
      "Processing Record 6 of Set 1 | korla\n",
      "Processing Record 7 of Set 1 | touros\n",
      "Processing Record 8 of Set 1 | mataura\n",
      "Processing Record 9 of Set 1 | tiksi\n",
      "Processing Record 10 of Set 1 | puerto ayora\n",
      "Processing Record 11 of Set 1 | ponta do sol\n",
      "Processing Record 12 of Set 1 | busselton\n",
      "Processing Record 13 of Set 1 | yatou\n",
      "City not found. Skipping...\n",
      "Processing Record 15 of Set 1 | yellowknife\n",
      "Processing Record 16 of Set 1 | avarua\n",
      "Processing Record 17 of Set 1 | ushuaia\n",
      "Processing Record 18 of Set 1 | te anau\n",
      "Processing Record 19 of Set 1 | nisia floresta\n",
      "Processing Record 20 of Set 1 | dwarka\n",
      "Processing Record 21 of Set 1 | urucara\n",
      "Processing Record 22 of Set 1 | upernavik\n",
      "Processing Record 23 of Set 1 | punta arenas\n",
      "Processing Record 24 of Set 1 | chokurdakh\n",
      "Processing Record 25 of Set 1 | bluff\n",
      "Processing Record 26 of Set 1 | sete\n",
      "Processing Record 27 of Set 1 | talnakh\n",
      "Processing Record 28 of Set 1 | saint george\n",
      "Processing Record 29 of Set 1 | sitka\n",
      "Processing Record 30 of Set 1 | kruisfontein\n",
      "Processing Record 31 of Set 1 | conceicao do araguaia\n",
      "Processing Record 32 of Set 1 | castro\n",
      "Processing Record 33 of Set 1 | iqaluit\n",
      "Processing Record 34 of Set 1 | grindavik\n",
      "Processing Record 35 of Set 1 | soure\n",
      "Processing Record 36 of Set 1 | hilo\n",
      "Processing Record 37 of Set 1 | nioro\n",
      "Processing Record 38 of Set 1 | hommelvik\n",
      "Processing Record 39 of Set 1 | kampot\n",
      "Processing Record 40 of Set 1 | ode\n",
      "Processing Record 41 of Set 1 | new norfolk\n",
      "Processing Record 42 of Set 1 | norman wells\n",
      "Processing Record 43 of Set 1 | bafilo\n",
      "Processing Record 44 of Set 1 | uige\n",
      "Processing Record 45 of Set 1 | hithadhoo\n",
      "Processing Record 46 of Set 1 | curico\n",
      "Processing Record 47 of Set 1 | miri\n",
      "Processing Record 48 of Set 1 | vila velha\n",
      "Processing Record 49 of Set 1 | port macquarie\n",
      "City not found. Skipping...\n",
      "Processing Record 1 of Set 2 | pangnirtung\n",
      "Processing Record 2 of Set 2 | erzin\n",
      "Processing Record 3 of Set 2 | itarema\n",
      "Processing Record 4 of Set 2 | paciran\n",
      "Processing Record 5 of Set 2 | east london\n",
      "Processing Record 6 of Set 2 | lompoc\n",
      "Processing Record 7 of Set 2 | tari\n",
      "Processing Record 8 of Set 2 | ayan\n",
      "Processing Record 9 of Set 2 | jamestown\n",
      "Processing Record 10 of Set 2 | mahebourg\n",
      "Processing Record 11 of Set 2 | tautira\n",
      "Processing Record 12 of Set 2 | albany\n",
      "Processing Record 13 of Set 2 | ahipara\n",
      "City not found. Skipping...\n",
      "Processing Record 15 of Set 2 | the pas\n",
      "Processing Record 16 of Set 2 | upington\n",
      "Processing Record 17 of Set 2 | aykhal\n",
      "Processing Record 18 of Set 2 | bredasdorp\n",
      "Processing Record 19 of Set 2 | ulaanbaatar\n",
      "Processing Record 20 of Set 2 | henties bay\n",
      "Processing Record 21 of Set 2 | barrow\n",
      "Processing Record 22 of Set 2 | portland\n",
      "Processing Record 23 of Set 2 | port alfred\n",
      "Processing Record 24 of Set 2 | port elizabeth\n",
      "Processing Record 25 of Set 2 | zhigansk\n",
      "City not found. Skipping...\n",
      "Processing Record 27 of Set 2 | morwa\n",
      "Processing Record 28 of Set 2 | cairns\n",
      "Processing Record 29 of Set 2 | erandio\n",
      "Processing Record 30 of Set 2 | burhanpur\n",
      "Processing Record 31 of Set 2 | santa fe\n",
      "Processing Record 32 of Set 2 | fortuna\n",
      "Processing Record 33 of Set 2 | kodiak\n",
      "Processing Record 34 of Set 2 | bambous virieux\n",
      "Processing Record 35 of Set 2 | teguldet\n",
      "Processing Record 36 of Set 2 | ahtopol\n",
      "Processing Record 37 of Set 2 | pisco\n",
      "Processing Record 38 of Set 2 | kapaa\n",
      "Processing Record 39 of Set 2 | bukachacha\n",
      "Processing Record 40 of Set 2 | trincomalee\n",
      "Processing Record 41 of Set 2 | khatanga\n",
      "City not found. Skipping...\n",
      "Processing Record 43 of Set 2 | general roca\n",
      "Processing Record 44 of Set 2 | oistins\n",
      "City not found. Skipping...\n",
      "City not found. Skipping...\n",
      "Processing Record 47 of Set 2 | biabou\n",
      "Processing Record 48 of Set 2 | fukue\n",
      "Processing Record 49 of Set 2 | severo-kurilsk\n",
      "Processing Record 50 of Set 2 | provideniya\n",
      "Processing Record 1 of Set 3 | tamboril\n",
      "City not found. Skipping...\n",
      "Processing Record 3 of Set 3 | javanrud\n",
      "Processing Record 4 of Set 3 | eha amufu\n",
      "City not found. Skipping...\n",
      "City not found. Skipping...\n",
      "Processing Record 7 of Set 3 | pevek\n",
      "Processing Record 8 of Set 3 | carnarvon\n",
      "Processing Record 9 of Set 3 | beidao\n",
      "Processing Record 10 of Set 3 | arraial do cabo\n",
      "Processing Record 11 of Set 3 | hami\n",
      "Processing Record 12 of Set 3 | cooma\n",
      "Processing Record 13 of Set 3 | aquiraz\n",
      "Processing Record 14 of Set 3 | cape town\n",
      "Processing Record 15 of Set 3 | dingle\n",
      "Processing Record 16 of Set 3 | mabiton\n",
      "Processing Record 17 of Set 3 | tabou\n",
      "Processing Record 18 of Set 3 | shaunavon\n",
      "Processing Record 19 of Set 3 | geraldton\n",
      "Processing Record 20 of Set 3 | cidreira\n",
      "Processing Record 21 of Set 3 | feni\n",
      "Processing Record 22 of Set 3 | vao\n",
      "Processing Record 23 of Set 3 | coquimbo\n",
      "Processing Record 24 of Set 3 | akom\n",
      "City not found. Skipping...\n",
      "City not found. Skipping...\n",
      "Processing Record 27 of Set 3 | cabo san lucas\n",
      "Processing Record 28 of Set 3 | morbach\n",
      "Processing Record 29 of Set 3 | north platte\n",
      "Processing Record 30 of Set 3 | mar del plata\n",
      "Processing Record 31 of Set 3 | sao filipe\n",
      "Processing Record 32 of Set 3 | yenagoa\n",
      "Processing Record 33 of Set 3 | clyde river\n",
      "Processing Record 34 of Set 3 | limbang\n",
      "Processing Record 35 of Set 3 | atuona\n",
      "Processing Record 36 of Set 3 | flin flon\n",
      "Processing Record 37 of Set 3 | hasaki\n",
      "Processing Record 38 of Set 3 | tucuman\n",
      "Processing Record 39 of Set 3 | luderitz\n",
      "Processing Record 40 of Set 3 | mingguang\n",
      "Processing Record 41 of Set 3 | kropotkin\n",
      "Processing Record 42 of Set 3 | pangoa\n",
      "Processing Record 43 of Set 3 | faanui\n",
      "Processing Record 44 of Set 3 | sassandra\n",
      "Processing Record 45 of Set 3 | lagos\n",
      "Processing Record 46 of Set 3 | eirunepe\n",
      "Processing Record 47 of Set 3 | salamiyah\n",
      "Processing Record 48 of Set 3 | bethel\n",
      "Processing Record 49 of Set 3 | vestmanna\n",
      "Processing Record 50 of Set 3 | jacareacanga\n",
      "Processing Record 1 of Set 4 | savannah bight\n",
      "Processing Record 2 of Set 4 | mount gambier\n",
      "Processing Record 3 of Set 4 | esperance\n",
      "City not found. Skipping...\n",
      "Processing Record 5 of Set 4 | katsuura\n",
      "Processing Record 6 of Set 4 | balikpapan\n",
      "Processing Record 7 of Set 4 | sheridan\n",
      "Processing Record 8 of Set 4 | anzio\n",
      "Processing Record 9 of Set 4 | kamenka\n",
      "Processing Record 10 of Set 4 | sume\n",
      "Processing Record 11 of Set 4 | ucluelet\n",
      "Processing Record 12 of Set 4 | bullhead city\n",
      "Processing Record 13 of Set 4 | saint anthony\n",
      "Processing Record 14 of Set 4 | port lincoln\n",
      "Processing Record 15 of Set 4 | kloulklubed\n",
      "Processing Record 16 of Set 4 | saint-philippe\n",
      "Processing Record 17 of Set 4 | tilichiki\n",
      "Processing Record 18 of Set 4 | szamotuly\n",
      "Processing Record 19 of Set 4 | kavieng\n",
      "Processing Record 20 of Set 4 | alofi\n",
      "Processing Record 21 of Set 4 | kushmurun\n",
      "Processing Record 22 of Set 4 | nago\n",
      "Processing Record 23 of Set 4 | lodja\n",
      "Processing Record 24 of Set 4 | ankazoabo\n",
      "Processing Record 25 of Set 4 | oskarshamn\n",
      "Processing Record 26 of Set 4 | obo\n",
      "Processing Record 27 of Set 4 | pacifica\n",
      "Processing Record 28 of Set 4 | torbay\n",
      "Processing Record 29 of Set 4 | margate\n",
      "Processing Record 30 of Set 4 | mudbidri\n",
      "Processing Record 31 of Set 4 | broome\n",
      "Processing Record 32 of Set 4 | abu dhabi\n",
      "Processing Record 33 of Set 4 | xining\n",
      "Processing Record 34 of Set 4 | bengkulu\n",
      "Processing Record 35 of Set 4 | butaritari\n",
      "Processing Record 36 of Set 4 | port hardy\n",
      "Processing Record 37 of Set 4 | salalah\n",
      "Processing Record 38 of Set 4 | cherskiy\n",
      "Processing Record 39 of Set 4 | garden city\n",
      "Processing Record 40 of Set 4 | mayumba\n",
      "Processing Record 41 of Set 4 | kahului\n",
      "Processing Record 42 of Set 4 | pila\n",
      "Processing Record 43 of Set 4 | caravelas\n",
      "Processing Record 44 of Set 4 | rocha\n",
      "Processing Record 45 of Set 4 | leeds\n",
      "Processing Record 46 of Set 4 | leningradskiy\n",
      "City not found. Skipping...\n",
      "Processing Record 48 of Set 4 | santa isabel do rio negro\n",
      "Processing Record 49 of Set 4 | carbonia\n",
      "City not found. Skipping...\n",
      "Processing Record 1 of Set 5 | imbituba\n",
      "City not found. Skipping...\n",
      "Processing Record 3 of Set 5 | hermanus\n",
      "Processing Record 4 of Set 5 | kirakira\n"
     ]
    },
    {
     "name": "stdout",
     "output_type": "stream",
     "text": [
      "Processing Record 5 of Set 5 | scarborough\n",
      "Processing Record 6 of Set 5 | kokopo\n",
      "Processing Record 7 of Set 5 | jiaonan\n",
      "City not found. Skipping...\n",
      "Processing Record 9 of Set 5 | olafsvik\n",
      "Processing Record 10 of Set 5 | luanda\n",
      "Processing Record 11 of Set 5 | cabatuan\n",
      "Processing Record 12 of Set 5 | tasiilaq\n",
      "Processing Record 13 of Set 5 | puteyets\n",
      "Processing Record 14 of Set 5 | bo rai\n",
      "City not found. Skipping...\n",
      "Processing Record 16 of Set 5 | chuy\n",
      "Processing Record 17 of Set 5 | prince rupert\n",
      "Processing Record 18 of Set 5 | grand gaube\n",
      "Processing Record 19 of Set 5 | muros\n",
      "Processing Record 20 of Set 5 | airai\n",
      "Processing Record 21 of Set 5 | rio grande\n",
      "Processing Record 22 of Set 5 | marrakesh\n",
      "City not found. Skipping...\n",
      "Processing Record 24 of Set 5 | nha trang\n",
      "City not found. Skipping...\n",
      "Processing Record 26 of Set 5 | vardo\n",
      "Processing Record 27 of Set 5 | lavrentiya\n",
      "Processing Record 28 of Set 5 | humaita\n",
      "Processing Record 29 of Set 5 | tucuma\n",
      "Processing Record 30 of Set 5 | nome\n",
      "Processing Record 31 of Set 5 | pekan\n",
      "Processing Record 32 of Set 5 | pacific grove\n",
      "Processing Record 33 of Set 5 | vallenar\n",
      "Processing Record 34 of Set 5 | huangchuan\n",
      "Processing Record 35 of Set 5 | sao paulo de olivenca\n",
      "Processing Record 36 of Set 5 | salinopolis\n",
      "Processing Record 37 of Set 5 | rio negro\n",
      "City not found. Skipping...\n",
      "Processing Record 39 of Set 5 | anyang\n",
      "Processing Record 40 of Set 5 | charters towers\n",
      "Processing Record 41 of Set 5 | bonavista\n",
      "Processing Record 42 of Set 5 | ginda\n",
      "Processing Record 43 of Set 5 | pakala\n",
      "Processing Record 44 of Set 5 | mayo\n",
      "Processing Record 45 of Set 5 | eqbaliyeh\n",
      "Processing Record 46 of Set 5 | byron bay\n",
      "Processing Record 47 of Set 5 | presidente medici\n",
      "Processing Record 48 of Set 5 | mongo\n",
      "Processing Record 49 of Set 5 | alugan\n",
      "Processing Record 50 of Set 5 | taoudenni\n",
      "Processing Record 1 of Set 6 | arbagar\n",
      "Processing Record 2 of Set 6 | san carlos\n",
      "Processing Record 3 of Set 6 | ayutla\n",
      "Processing Record 4 of Set 6 | tabas\n",
      "City not found. Skipping...\n",
      "Processing Record 6 of Set 6 | hualmay\n",
      "Processing Record 7 of Set 6 | pauini\n",
      "Processing Record 8 of Set 6 | pierre\n",
      "Processing Record 9 of Set 6 | saint-joseph\n",
      "Processing Record 10 of Set 6 | bosaso\n",
      "Processing Record 11 of Set 6 | leeton\n",
      "City not found. Skipping...\n",
      "Processing Record 13 of Set 6 | rabaul\n",
      "City not found. Skipping...\n",
      "Processing Record 15 of Set 6 | del rio\n",
      "City not found. Skipping...\n",
      "Processing Record 17 of Set 6 | virginia beach\n",
      "Processing Record 18 of Set 6 | praia da vitoria\n",
      "Processing Record 19 of Set 6 | elizabeth city\n",
      "Processing Record 20 of Set 6 | malmyzh\n",
      "Processing Record 21 of Set 6 | la reforma\n",
      "Processing Record 22 of Set 6 | sabla\n",
      "Processing Record 23 of Set 6 | kaitangata\n",
      "Processing Record 24 of Set 6 | san ramon\n",
      "Processing Record 25 of Set 6 | bowen\n",
      "Processing Record 26 of Set 6 | nioki\n",
      "Processing Record 27 of Set 6 | camacupa\n",
      "Processing Record 28 of Set 6 | codrington\n",
      "Processing Record 29 of Set 6 | georgetown\n",
      "Processing Record 30 of Set 6 | mehamn\n",
      "Processing Record 31 of Set 6 | tura\n",
      "Processing Record 32 of Set 6 | rauseni\n",
      "Processing Record 33 of Set 6 | ambon\n",
      "Processing Record 34 of Set 6 | kaohsiung\n",
      "Processing Record 35 of Set 6 | lushoto\n",
      "Processing Record 36 of Set 6 | lagoa\n",
      "Processing Record 37 of Set 6 | palmer\n",
      "Processing Record 38 of Set 6 | los llanos de aridane\n",
      "Processing Record 39 of Set 6 | hamilton\n",
      "Processing Record 40 of Set 6 | cumpas\n",
      "Processing Record 41 of Set 6 | qaanaaq\n",
      "Processing Record 42 of Set 6 | valleyview\n",
      "Processing Record 43 of Set 6 | kudat\n",
      "Processing Record 44 of Set 6 | ilulissat\n",
      "Processing Record 45 of Set 6 | saint-felicien\n",
      "City not found. Skipping...\n",
      "Processing Record 47 of Set 6 | novopskov\n",
      "Processing Record 48 of Set 6 | mollendo\n",
      "Processing Record 49 of Set 6 | sao jose da coroa grande\n",
      "Processing Record 50 of Set 6 | zhezkazgan\n",
      "Processing Record 1 of Set 7 | asau\n",
      "Processing Record 2 of Set 7 | tuktoyaktuk\n",
      "Processing Record 3 of Set 7 | narsaq\n",
      "Processing Record 4 of Set 7 | pangkalanbuun\n",
      "Processing Record 5 of Set 7 | saldanha\n",
      "Processing Record 6 of Set 7 | fort-shevchenko\n",
      "Processing Record 7 of Set 7 | zastron\n",
      "Processing Record 8 of Set 7 | dikson\n",
      "Processing Record 9 of Set 7 | lorengau\n",
      "Processing Record 10 of Set 7 | beloha\n",
      "Processing Record 11 of Set 7 | yilan\n",
      "Processing Record 12 of Set 7 | gurupi\n",
      "Processing Record 13 of Set 7 | cabedelo\n",
      "Processing Record 14 of Set 7 | dvinskoy\n",
      "Processing Record 15 of Set 7 | cuetzalan\n",
      "Processing Record 16 of Set 7 | san patricio\n",
      "Processing Record 17 of Set 7 | mareeba\n",
      "Processing Record 18 of Set 7 | padang\n",
      "Processing Record 19 of Set 7 | waingapu\n",
      "Processing Record 20 of Set 7 | uthal\n",
      "Processing Record 21 of Set 7 | laguna\n",
      "Processing Record 22 of Set 7 | thompson\n",
      "City not found. Skipping...\n",
      "Processing Record 24 of Set 7 | nusaybin\n",
      "Processing Record 25 of Set 7 | grand-santi\n",
      "Processing Record 26 of Set 7 | lucapa\n",
      "Processing Record 27 of Set 7 | saint-francois\n",
      "Processing Record 28 of Set 7 | lae\n",
      "Processing Record 29 of Set 7 | ancud\n",
      "Processing Record 30 of Set 7 | chengzihe\n",
      "Processing Record 31 of Set 7 | mahina\n",
      "Processing Record 32 of Set 7 | pedasi\n",
      "Processing Record 33 of Set 7 | asyut\n",
      "Processing Record 34 of Set 7 | deputatskiy\n",
      "Processing Record 35 of Set 7 | forbes\n",
      "Processing Record 36 of Set 7 | linguere\n",
      "Processing Record 37 of Set 7 | preobrazheniye\n",
      "Processing Record 38 of Set 7 | bandarbeyla\n",
      "Processing Record 39 of Set 7 | kerema\n",
      "Processing Record 40 of Set 7 | bethanien\n",
      "Processing Record 41 of Set 7 | whitehorse\n",
      "Processing Record 42 of Set 7 | taltal\n",
      "Processing Record 43 of Set 7 | sept-iles\n",
      "Processing Record 44 of Set 7 | san cristobal\n",
      "Processing Record 45 of Set 7 | kiunga\n",
      "Processing Record 46 of Set 7 | laa\n",
      "Processing Record 47 of Set 7 | auki\n",
      "Processing Record 48 of Set 7 | cayenne\n",
      "Processing Record 49 of Set 7 | stephenville\n",
      "Processing Record 50 of Set 7 | constantine\n",
      "Processing Record 1 of Set 8 | maraa\n",
      "Processing Record 2 of Set 8 | victoria\n",
      "Processing Record 3 of Set 8 | kavaratti\n",
      "Processing Record 4 of Set 8 | lata\n",
      "Processing Record 5 of Set 8 | imeni poliny osipenko\n",
      "Processing Record 6 of Set 8 | terney\n",
      "Processing Record 7 of Set 8 | rock sound\n",
      "Processing Record 8 of Set 8 | zhanaozen\n",
      "Processing Record 9 of Set 8 | constitucion\n",
      "Processing Record 10 of Set 8 | mushie\n",
      "Processing Record 11 of Set 8 | guerrero negro\n",
      "Processing Record 12 of Set 8 | qostanay\n",
      "Processing Record 13 of Set 8 | lebu\n",
      "Processing Record 14 of Set 8 | bathsheba\n",
      "Processing Record 15 of Set 8 | sabang\n",
      "City not found. Skipping...\n",
      "Processing Record 17 of Set 8 | bail hongal\n",
      "City not found. Skipping...\n",
      "Processing Record 19 of Set 8 | ribnitz-damgarten\n",
      "Processing Record 20 of Set 8 | wajid\n",
      "Processing Record 21 of Set 8 | anadyr\n",
      "Processing Record 22 of Set 8 | gunjur\n",
      "Processing Record 23 of Set 8 | tofield\n",
      "Processing Record 24 of Set 8 | villagarzon\n",
      "Processing Record 25 of Set 8 | namatanai\n",
      "Processing Record 26 of Set 8 | fez\n",
      "Processing Record 27 of Set 8 | calvinia\n",
      "Processing Record 28 of Set 8 | okha\n",
      "Processing Record 29 of Set 8 | karratha\n",
      "Processing Record 30 of Set 8 | bairiki\n",
      "Processing Record 31 of Set 8 | ugoofaaru\n",
      "Processing Record 32 of Set 8 | avera\n",
      "Processing Record 33 of Set 8 | altar\n",
      "Processing Record 34 of Set 8 | asosa\n",
      "Processing Record 35 of Set 8 | ketchikan\n",
      "Processing Record 36 of Set 8 | longyearbyen\n",
      "Processing Record 37 of Set 8 | aktau\n",
      "Processing Record 38 of Set 8 | qaqortoq\n",
      "City not found. Skipping...\n",
      "Processing Record 40 of Set 8 | fort nelson\n",
      "Processing Record 41 of Set 8 | srivardhan\n",
      "Processing Record 42 of Set 8 | trelew\n",
      "Processing Record 43 of Set 8 | sao joao da barra\n",
      "Processing Record 44 of Set 8 | acajutla\n",
      "Processing Record 45 of Set 8 | ribeira grande\n",
      "Processing Record 46 of Set 8 | svetlogorsk\n",
      "Processing Record 47 of Set 8 | bilibino\n",
      "City not found. Skipping...\n",
      "Processing Record 49 of Set 8 | nanortalik\n",
      "City not found. Skipping...\n",
      "Processing Record 1 of Set 9 | port blair\n",
      "Processing Record 2 of Set 9 | myski\n",
      "Processing Record 3 of Set 9 | gat\n",
      "Processing Record 4 of Set 9 | mandalgovi\n",
      "Processing Record 5 of Set 9 | kathmandu\n",
      "Processing Record 6 of Set 9 | san jose\n",
      "Processing Record 7 of Set 9 | camiri\n",
      "Processing Record 8 of Set 9 | butembo\n",
      "Processing Record 9 of Set 9 | shibetsu\n"
     ]
    },
    {
     "name": "stdout",
     "output_type": "stream",
     "text": [
      "Processing Record 10 of Set 9 | heihe\n",
      "Processing Record 11 of Set 9 | sao miguel do araguaia\n",
      "Processing Record 12 of Set 9 | guane\n",
      "Processing Record 13 of Set 9 | hofn\n",
      "Processing Record 14 of Set 9 | turukhansk\n",
      "Processing Record 15 of Set 9 | hailey\n",
      "Processing Record 16 of Set 9 | oussouye\n",
      "Processing Record 17 of Set 9 | karatau\n",
      "Processing Record 18 of Set 9 | verkh-usugli\n",
      "Processing Record 19 of Set 9 | goderich\n",
      "Processing Record 20 of Set 9 | isangel\n",
      "Processing Record 21 of Set 9 | vanimo\n",
      "Processing Record 22 of Set 9 | pasighat\n",
      "Processing Record 23 of Set 9 | saskylakh\n",
      "Processing Record 24 of Set 9 | sembe\n",
      "Processing Record 25 of Set 9 | klaksvik\n",
      "Processing Record 26 of Set 9 | solnechnyy\n",
      "Processing Record 27 of Set 9 | newport\n",
      "City not found. Skipping...\n",
      "Processing Record 29 of Set 9 | yulara\n",
      "Processing Record 30 of Set 9 | mayor pablo lagerenza\n",
      "Processing Record 31 of Set 9 | pueblo\n",
      "Processing Record 32 of Set 9 | luena\n",
      "Processing Record 33 of Set 9 | leshukonskoye\n",
      "Processing Record 34 of Set 9 | adre\n",
      "Processing Record 35 of Set 9 | maharagama\n",
      "Processing Record 36 of Set 9 | hvolsvollur\n",
      "Processing Record 37 of Set 9 | les escoumins\n",
      "Processing Record 38 of Set 9 | chabahar\n",
      "Processing Record 39 of Set 9 | puyang\n",
      "Processing Record 40 of Set 9 | vila franca do campo\n",
      "Processing Record 41 of Set 9 | rio gallegos\n",
      "Processing Record 42 of Set 9 | roros\n",
      "Processing Record 43 of Set 9 | botou\n",
      "Processing Record 44 of Set 9 | fairbanks\n",
      "Processing Record 45 of Set 9 | eenhana\n",
      "Processing Record 46 of Set 9 | chino valley\n",
      "Processing Record 47 of Set 9 | eureka\n",
      "City not found. Skipping...\n",
      "Processing Record 49 of Set 9 | ilam\n",
      "Processing Record 50 of Set 9 | aksu\n",
      "Processing Record 1 of Set 10 | alekseyevsk\n",
      "Processing Record 2 of Set 10 | gimli\n",
      "Processing Record 3 of Set 10 | tazovskiy\n",
      "Processing Record 4 of Set 10 | badou\n",
      "Processing Record 5 of Set 10 | marawi\n",
      "Processing Record 6 of Set 10 | mecca\n",
      "Processing Record 7 of Set 10 | naze\n",
      "Processing Record 8 of Set 10 | paracale\n",
      "Processing Record 9 of Set 10 | santa cruz\n",
      "Processing Record 10 of Set 10 | kyren\n",
      "City not found. Skipping...\n",
      "Processing Record 12 of Set 10 | roebourne\n",
      "Processing Record 13 of Set 10 | lima\n",
      "Processing Record 14 of Set 10 | ulaangom\n",
      "Processing Record 15 of Set 10 | russell\n",
      "Processing Record 16 of Set 10 | fare\n",
      "City not found. Skipping...\n",
      "Processing Record 18 of Set 10 | volodarskiy\n",
      "Processing Record 19 of Set 10 | meulaboh\n",
      "City not found. Skipping...\n",
      "Processing Record 21 of Set 10 | ardakan\n",
      "Processing Record 22 of Set 10 | vicksburg\n",
      "Processing Record 23 of Set 10 | fatehabad\n",
      "Processing Record 24 of Set 10 | bozoum\n",
      "Processing Record 25 of Set 10 | mongu\n",
      "Processing Record 26 of Set 10 | umm kaddadah\n",
      "Processing Record 27 of Set 10 | richards bay\n",
      "Processing Record 28 of Set 10 | isla mujeres\n",
      "Processing Record 29 of Set 10 | pimenteiras\n",
      "Processing Record 30 of Set 10 | cabinda\n",
      "City not found. Skipping...\n",
      "Processing Record 32 of Set 10 | bundaberg\n",
      "Processing Record 33 of Set 10 | yaan\n",
      "City not found. Skipping...\n",
      "Processing Record 35 of Set 10 | luangwa\n",
      "Processing Record 36 of Set 10 | talcher\n",
      "Processing Record 37 of Set 10 | erdenet\n",
      "Processing Record 38 of Set 10 | kalmunai\n",
      "Processing Record 39 of Set 10 | mahibadhoo\n",
      "Processing Record 40 of Set 10 | noci\n",
      "Processing Record 41 of Set 10 | baie-comeau\n",
      "Processing Record 42 of Set 10 | la ronge\n",
      "Processing Record 43 of Set 10 | karasburg\n",
      "Processing Record 44 of Set 10 | aklavik\n",
      "Processing Record 45 of Set 10 | progreso\n",
      "Processing Record 46 of Set 10 | yumen\n",
      "Processing Record 47 of Set 10 | butka\n",
      "Processing Record 48 of Set 10 | dunmore east\n",
      "Processing Record 49 of Set 10 | sonson\n",
      "City not found. Skipping...\n",
      "Processing Record 1 of Set 11 | bela cruz\n",
      "Processing Record 2 of Set 11 | diamantina\n",
      "Processing Record 3 of Set 11 | beringovskiy\n",
      "Processing Record 4 of Set 11 | zhanakorgan\n",
      "City not found. Skipping...\n",
      "Processing Record 6 of Set 11 | isiolo\n",
      "Processing Record 7 of Set 11 | huaral\n",
      "Processing Record 8 of Set 11 | tuatapere\n",
      "Processing Record 9 of Set 11 | balabac\n",
      "Processing Record 10 of Set 11 | porto-vecchio\n",
      "Processing Record 11 of Set 11 | piacabucu\n",
      "Processing Record 12 of Set 11 | gayny\n",
      "Processing Record 13 of Set 11 | odemira\n",
      "City not found. Skipping...\n",
      "Processing Record 15 of Set 11 | kedrovyy\n",
      "City not found. Skipping...\n",
      "Processing Record 17 of Set 11 | trinidad\n",
      "Processing Record 18 of Set 11 | hamada\n",
      "Processing Record 19 of Set 11 | nemuro\n",
      "Processing Record 20 of Set 11 | husavik\n",
      "Processing Record 21 of Set 11 | sur\n",
      "Processing Record 22 of Set 11 | puebla\n",
      "City not found. Skipping...\n",
      "Processing Record 24 of Set 11 | jatai\n",
      "Processing Record 25 of Set 11 | nuuk\n",
      "Processing Record 26 of Set 11 | acarau\n",
      "Processing Record 27 of Set 11 | arlit\n",
      "Processing Record 28 of Set 11 | puerto baquerizo moreno\n",
      "Processing Record 29 of Set 11 | el alto\n",
      "Processing Record 30 of Set 11 | trabzon\n",
      "Processing Record 31 of Set 11 | yerbogachen\n",
      "Processing Record 32 of Set 11 | osterburg\n",
      "Processing Record 33 of Set 11 | nabinagar\n",
      "Processing Record 34 of Set 11 | veracruz\n",
      "Processing Record 35 of Set 11 | bogale\n",
      "Processing Record 36 of Set 11 | honningsvag\n",
      "Processing Record 37 of Set 11 | egvekinot\n",
      "Processing Record 38 of Set 11 | platteville\n",
      "Processing Record 39 of Set 11 | yafran\n",
      "Processing Record 40 of Set 11 | keffi\n",
      "City not found. Skipping...\n",
      "Processing Record 42 of Set 11 | youhao\n",
      "Processing Record 43 of Set 11 | teotlalcingo\n",
      "Processing Record 44 of Set 11 | hare bay\n",
      "Processing Record 45 of Set 11 | mount isa\n",
      "Processing Record 46 of Set 11 | paralimni\n",
      "Processing Record 47 of Set 11 | dicabisagan\n",
      "Processing Record 48 of Set 11 | ogaminana\n",
      "Processing Record 49 of Set 11 | tabuk\n",
      "Processing Record 50 of Set 11 | norsup\n",
      "City not found. Skipping...\n",
      "City not found. Skipping...\n",
      "Processing Record 3 of Set 12 | ellenabad\n",
      "City not found. Skipping...\n",
      "Processing Record 5 of Set 12 | marsa matruh\n",
      "Processing Record 6 of Set 12 | kattivakkam\n",
      "Processing Record 7 of Set 12 | timra\n",
      "Processing Record 8 of Set 12 | alexander city\n",
      "Processing Record 9 of Set 12 | ewa beach\n",
      "Processing Record 10 of Set 12 | kununurra\n",
      "Processing Record 11 of Set 12 | berlevag\n",
      "City not found. Skipping...\n",
      "Processing Record 13 of Set 12 | teknaf\n",
      "City not found. Skipping...\n",
      "City not found. Skipping...\n",
      "Processing Record 16 of Set 12 | samana\n",
      "Processing Record 17 of Set 12 | riyadh\n",
      "Processing Record 18 of Set 12 | beohari\n",
      "City not found. Skipping...\n",
      "Processing Record 20 of Set 12 | maningrida\n",
      "Processing Record 21 of Set 12 | kurumkan\n",
      "Processing Record 22 of Set 12 | kieta\n",
      "Processing Record 23 of Set 12 | mutata\n",
      "Processing Record 24 of Set 12 | quincy\n",
      "Processing Record 25 of Set 12 | muyezerskiy\n",
      "Processing Record 26 of Set 12 | tessalit\n",
      "Processing Record 27 of Set 12 | santiago de chuco\n",
      "Processing Record 28 of Set 12 | katherine\n",
      "Processing Record 29 of Set 12 | mwinilunga\n",
      "Processing Record 30 of Set 12 | yamada\n",
      "Processing Record 31 of Set 12 | vilaka\n",
      "Processing Record 32 of Set 12 | dubrovka\n",
      "Processing Record 33 of Set 12 | flinders\n",
      "Processing Record 34 of Set 12 | monte patria\n",
      "Processing Record 35 of Set 12 | arawa\n",
      "Processing Record 36 of Set 12 | terrace bay\n",
      "Processing Record 37 of Set 12 | makakilo city\n",
      "Processing Record 38 of Set 12 | yantarnyy\n",
      "Processing Record 39 of Set 12 | poum\n",
      "Processing Record 40 of Set 12 | belaya gora\n",
      "Processing Record 41 of Set 12 | brae\n",
      "Processing Record 42 of Set 12 | port-gentil\n",
      "Processing Record 43 of Set 12 | helong\n",
      "Processing Record 44 of Set 12 | adrar\n",
      "Processing Record 45 of Set 12 | strezhevoy\n"
     ]
    }
   ],
   "source": [
    "# Save config information.\n",
    "url = \"http://api.openweathermap.org/data/2.5/weather?\"\n",
    "units = \"imperial\"\n",
    "\n",
    "# Empty lists for when the dataframe is created later on\n",
    "found_city = []\n",
    "lat = []\n",
    "lng = []\n",
    "max_temp = []\n",
    "humidity = []\n",
    "cloudiness = []\n",
    "wind_speed = []\n",
    "country = []\n",
    "date = []\n",
    "\n",
    "# City and set count (set of 50)\n",
    "city_count = 0\n",
    "set_count = 1\n",
    "\n",
    "# API City Data Loop\n",
    "print('Beginning Data Retrieval\\n -----------------------------')\n",
    "for city in cities:\n",
    "    time.sleep(1)\n",
    "    query_url = f\"{url}appid={weather_api_key}&units={units}&q=\"\n",
    "    response = requests.get(query_url + city).json()\n",
    "    \n",
    "    # City and set count (of 50)\n",
    "    if city_count <=49:\n",
    "        city_count += 1  \n",
    "    else:\n",
    "        set_count += 1\n",
    "        city_count = 1\n",
    "    \n",
    "    # Appending to the empty lists above for dataframe  \n",
    "    try:\n",
    "        found_city.append(response['name'])\n",
    "        lat.append(response['coord']['lat'])\n",
    "        lng.append(response['coord']['lon'])\n",
    "        max_temp.append(response['main']['temp_max'])\n",
    "        humidity.append(response['main']['humidity'])\n",
    "        cloudiness.append(response['clouds']['all'])\n",
    "        wind_speed.append(response['wind']['speed'])\n",
    "        country.append(response['sys']['country'])\n",
    "        date.append(response['dt'])  \n",
    "        print(f\"Processing Record {city_count} of Set {set_count} | {city}\")\n",
    "    except:\n",
    "        print(f\"City not found. Skipping...\")    \n"
   ]
  },
  {
   "cell_type": "markdown",
   "metadata": {},
   "source": [
    "### Convert Raw Data to DataFrame\n",
    "* Export the city data into a .csv.\n",
    "* Display the DataFrame"
   ]
  },
  {
   "cell_type": "code",
   "execution_count": 9,
   "metadata": {
    "scrolled": true
   },
   "outputs": [
    {
     "data": {
      "text/html": [
       "<div>\n",
       "<style scoped>\n",
       "    .dataframe tbody tr th:only-of-type {\n",
       "        vertical-align: middle;\n",
       "    }\n",
       "\n",
       "    .dataframe tbody tr th {\n",
       "        vertical-align: top;\n",
       "    }\n",
       "\n",
       "    .dataframe thead th {\n",
       "        text-align: right;\n",
       "    }\n",
       "</style>\n",
       "<table border=\"1\" class=\"dataframe\">\n",
       "  <thead>\n",
       "    <tr style=\"text-align: right;\">\n",
       "      <th></th>\n",
       "      <th>City</th>\n",
       "      <th>Lat</th>\n",
       "      <th>Lng</th>\n",
       "      <th>Max Temp</th>\n",
       "      <th>Humidity</th>\n",
       "      <th>Cloudiness</th>\n",
       "      <th>Wind Speed</th>\n",
       "      <th>Country</th>\n",
       "      <th>Date</th>\n",
       "    </tr>\n",
       "  </thead>\n",
       "  <tbody>\n",
       "    <tr>\n",
       "      <th>0</th>\n",
       "      <td>Mackay</td>\n",
       "      <td>-21.15</td>\n",
       "      <td>149.20</td>\n",
       "      <td>86.00</td>\n",
       "      <td>58</td>\n",
       "      <td>25</td>\n",
       "      <td>14.99</td>\n",
       "      <td>AU</td>\n",
       "      <td>1603856694</td>\n",
       "    </tr>\n",
       "    <tr>\n",
       "      <th>1</th>\n",
       "      <td>Hobart</td>\n",
       "      <td>-42.88</td>\n",
       "      <td>147.33</td>\n",
       "      <td>62.01</td>\n",
       "      <td>82</td>\n",
       "      <td>75</td>\n",
       "      <td>16.11</td>\n",
       "      <td>AU</td>\n",
       "      <td>1603856514</td>\n",
       "    </tr>\n",
       "    <tr>\n",
       "      <th>2</th>\n",
       "      <td>Rikitea</td>\n",
       "      <td>-23.12</td>\n",
       "      <td>-134.97</td>\n",
       "      <td>75.42</td>\n",
       "      <td>84</td>\n",
       "      <td>100</td>\n",
       "      <td>15.50</td>\n",
       "      <td>PF</td>\n",
       "      <td>1603856700</td>\n",
       "    </tr>\n",
       "    <tr>\n",
       "      <th>3</th>\n",
       "      <td>Vaini</td>\n",
       "      <td>-21.20</td>\n",
       "      <td>-175.20</td>\n",
       "      <td>78.80</td>\n",
       "      <td>74</td>\n",
       "      <td>20</td>\n",
       "      <td>9.17</td>\n",
       "      <td>TO</td>\n",
       "      <td>1603857147</td>\n",
       "    </tr>\n",
       "    <tr>\n",
       "      <th>4</th>\n",
       "      <td>Nikolskoye</td>\n",
       "      <td>59.70</td>\n",
       "      <td>30.79</td>\n",
       "      <td>52.00</td>\n",
       "      <td>87</td>\n",
       "      <td>90</td>\n",
       "      <td>11.18</td>\n",
       "      <td>RU</td>\n",
       "      <td>1603857148</td>\n",
       "    </tr>\n",
       "  </tbody>\n",
       "</table>\n",
       "</div>"
      ],
      "text/plain": [
       "         City    Lat     Lng  Max Temp  Humidity  Cloudiness  Wind Speed  \\\n",
       "0      Mackay -21.15  149.20     86.00        58          25       14.99   \n",
       "1      Hobart -42.88  147.33     62.01        82          75       16.11   \n",
       "2     Rikitea -23.12 -134.97     75.42        84         100       15.50   \n",
       "3       Vaini -21.20 -175.20     78.80        74          20        9.17   \n",
       "4  Nikolskoye  59.70   30.79     52.00        87          90       11.18   \n",
       "\n",
       "  Country        Date  \n",
       "0      AU  1603856694  \n",
       "1      AU  1603856514  \n",
       "2      PF  1603856700  \n",
       "3      TO  1603857147  \n",
       "4      RU  1603857148  "
      ]
     },
     "execution_count": 9,
     "metadata": {},
     "output_type": "execute_result"
    }
   ],
   "source": [
    "# Building the dateframe\n",
    "city_data_df = pd.DataFrame({'City': found_city,\n",
    "                             'Lat': lat,\n",
    "                             'Lng': lng,\n",
    "                             'Max Temp': max_temp,\n",
    "                             'Humidity': humidity,\n",
    "                             'Cloudiness': cloudiness,\n",
    "                             'Wind Speed': wind_speed,\n",
    "                             'Country': country,\n",
    "                             'Date': date}) \n",
    "\n",
    "# Setting the index to the city name for the output file  \n",
    "output_city_data = city_data_df.set_index(\"City\")\n",
    "output_city_data.to_csv(output_data_file)\n",
    "city_data_df.head()"
   ]
  },
  {
   "cell_type": "code",
   "execution_count": 10,
   "metadata": {
    "scrolled": true
   },
   "outputs": [
    {
     "data": {
      "text/html": [
       "<div>\n",
       "<style scoped>\n",
       "    .dataframe tbody tr th:only-of-type {\n",
       "        vertical-align: middle;\n",
       "    }\n",
       "\n",
       "    .dataframe tbody tr th {\n",
       "        vertical-align: top;\n",
       "    }\n",
       "\n",
       "    .dataframe thead th {\n",
       "        text-align: right;\n",
       "    }\n",
       "</style>\n",
       "<table border=\"1\" class=\"dataframe\">\n",
       "  <thead>\n",
       "    <tr style=\"text-align: right;\">\n",
       "      <th></th>\n",
       "      <th>Lat</th>\n",
       "      <th>Lng</th>\n",
       "      <th>Max Temp</th>\n",
       "      <th>Humidity</th>\n",
       "      <th>Cloudiness</th>\n",
       "      <th>Wind Speed</th>\n",
       "      <th>Date</th>\n",
       "    </tr>\n",
       "  </thead>\n",
       "  <tbody>\n",
       "    <tr>\n",
       "      <th>count</th>\n",
       "      <td>543.000000</td>\n",
       "      <td>543.000000</td>\n",
       "      <td>543.000000</td>\n",
       "      <td>543.000000</td>\n",
       "      <td>543.000000</td>\n",
       "      <td>543.000000</td>\n",
       "      <td>5.430000e+02</td>\n",
       "    </tr>\n",
       "    <tr>\n",
       "      <th>mean</th>\n",
       "      <td>18.908637</td>\n",
       "      <td>15.740092</td>\n",
       "      <td>59.634144</td>\n",
       "      <td>73.734807</td>\n",
       "      <td>50.552486</td>\n",
       "      <td>7.089908</td>\n",
       "      <td>1.603857e+09</td>\n",
       "    </tr>\n",
       "    <tr>\n",
       "      <th>std</th>\n",
       "      <td>32.236130</td>\n",
       "      <td>91.873073</td>\n",
       "      <td>21.651964</td>\n",
       "      <td>20.628493</td>\n",
       "      <td>40.147014</td>\n",
       "      <td>5.142095</td>\n",
       "      <td>2.657267e+02</td>\n",
       "    </tr>\n",
       "    <tr>\n",
       "      <th>min</th>\n",
       "      <td>-54.800000</td>\n",
       "      <td>-179.170000</td>\n",
       "      <td>-5.570000</td>\n",
       "      <td>7.000000</td>\n",
       "      <td>0.000000</td>\n",
       "      <td>0.380000</td>\n",
       "      <td>1.603856e+09</td>\n",
       "    </tr>\n",
       "    <tr>\n",
       "      <th>25%</th>\n",
       "      <td>-6.690000</td>\n",
       "      <td>-65.540000</td>\n",
       "      <td>44.600000</td>\n",
       "      <td>64.000000</td>\n",
       "      <td>1.000000</td>\n",
       "      <td>3.010000</td>\n",
       "      <td>1.603857e+09</td>\n",
       "    </tr>\n",
       "    <tr>\n",
       "      <th>50%</th>\n",
       "      <td>20.950000</td>\n",
       "      <td>17.130000</td>\n",
       "      <td>63.000000</td>\n",
       "      <td>79.000000</td>\n",
       "      <td>57.000000</td>\n",
       "      <td>5.820000</td>\n",
       "      <td>1.603857e+09</td>\n",
       "    </tr>\n",
       "    <tr>\n",
       "      <th>75%</th>\n",
       "      <td>45.385000</td>\n",
       "      <td>98.770000</td>\n",
       "      <td>76.990000</td>\n",
       "      <td>89.000000</td>\n",
       "      <td>90.000000</td>\n",
       "      <td>10.235000</td>\n",
       "      <td>1.603858e+09</td>\n",
       "    </tr>\n",
       "    <tr>\n",
       "      <th>max</th>\n",
       "      <td>78.220000</td>\n",
       "      <td>179.320000</td>\n",
       "      <td>96.800000</td>\n",
       "      <td>100.000000</td>\n",
       "      <td>100.000000</td>\n",
       "      <td>28.860000</td>\n",
       "      <td>1.603858e+09</td>\n",
       "    </tr>\n",
       "  </tbody>\n",
       "</table>\n",
       "</div>"
      ],
      "text/plain": [
       "              Lat         Lng    Max Temp    Humidity  Cloudiness  Wind Speed  \\\n",
       "count  543.000000  543.000000  543.000000  543.000000  543.000000  543.000000   \n",
       "mean    18.908637   15.740092   59.634144   73.734807   50.552486    7.089908   \n",
       "std     32.236130   91.873073   21.651964   20.628493   40.147014    5.142095   \n",
       "min    -54.800000 -179.170000   -5.570000    7.000000    0.000000    0.380000   \n",
       "25%     -6.690000  -65.540000   44.600000   64.000000    1.000000    3.010000   \n",
       "50%     20.950000   17.130000   63.000000   79.000000   57.000000    5.820000   \n",
       "75%     45.385000   98.770000   76.990000   89.000000   90.000000   10.235000   \n",
       "max     78.220000  179.320000   96.800000  100.000000  100.000000   28.860000   \n",
       "\n",
       "               Date  \n",
       "count  5.430000e+02  \n",
       "mean   1.603857e+09  \n",
       "std    2.657267e+02  \n",
       "min    1.603856e+09  \n",
       "25%    1.603857e+09  \n",
       "50%    1.603857e+09  \n",
       "75%    1.603858e+09  \n",
       "max    1.603858e+09  "
      ]
     },
     "execution_count": 10,
     "metadata": {},
     "output_type": "execute_result"
    }
   ],
   "source": [
    "# Dataframe statistics\n",
    "city_data_df.describe()"
   ]
  },
  {
   "cell_type": "code",
   "execution_count": 11,
   "metadata": {},
   "outputs": [
    {
     "data": {
      "text/plain": [
       "543"
      ]
     },
     "execution_count": 11,
     "metadata": {},
     "output_type": "execute_result"
    }
   ],
   "source": [
    "# Length of the dataframe\n",
    "len(city_data_df)"
   ]
  },
  {
   "cell_type": "code",
   "execution_count": 12,
   "metadata": {},
   "outputs": [
    {
     "data": {
      "text/plain": [
       "543"
      ]
     },
     "execution_count": 12,
     "metadata": {},
     "output_type": "execute_result"
    }
   ],
   "source": [
    "# Dataframe of the cities with a humidity of less than 100%\n",
    "city_data_humid_df = city_data_df[city_data_df['Humidity'] <= 100] \n",
    "# city_data_humid_df.drop(city_data_df[city_data_df['Humidity'] > 10].index, inplace=True)\n",
    "len(city_data_humid_df)"
   ]
  },
  {
   "cell_type": "markdown",
   "metadata": {},
   "source": [
    "## Inspect the data and remove the cities where the humidity > 100%.\n",
    "----\n",
    "Skip this step if there are no cities that have humidity > 100%. "
   ]
  },
  {
   "cell_type": "code",
   "execution_count": 35,
   "metadata": {},
   "outputs": [
    {
     "data": {
      "text/html": [
       "<div>\n",
       "<style scoped>\n",
       "    .dataframe tbody tr th:only-of-type {\n",
       "        vertical-align: middle;\n",
       "    }\n",
       "\n",
       "    .dataframe tbody tr th {\n",
       "        vertical-align: top;\n",
       "    }\n",
       "\n",
       "    .dataframe thead th {\n",
       "        text-align: right;\n",
       "    }\n",
       "</style>\n",
       "<table border=\"1\" class=\"dataframe\">\n",
       "  <thead>\n",
       "    <tr style=\"text-align: right;\">\n",
       "      <th></th>\n",
       "      <th>Lat</th>\n",
       "      <th>Lng</th>\n",
       "      <th>Max Temp</th>\n",
       "      <th>Humidity</th>\n",
       "      <th>Cloudiness</th>\n",
       "      <th>Wind Speed</th>\n",
       "      <th>Date</th>\n",
       "    </tr>\n",
       "  </thead>\n",
       "  <tbody>\n",
       "    <tr>\n",
       "      <th>count</th>\n",
       "      <td>543.000000</td>\n",
       "      <td>543.000000</td>\n",
       "      <td>543.000000</td>\n",
       "      <td>543.000000</td>\n",
       "      <td>543.000000</td>\n",
       "      <td>543.000000</td>\n",
       "      <td>5.430000e+02</td>\n",
       "    </tr>\n",
       "    <tr>\n",
       "      <th>mean</th>\n",
       "      <td>18.908637</td>\n",
       "      <td>15.740092</td>\n",
       "      <td>59.634144</td>\n",
       "      <td>73.734807</td>\n",
       "      <td>50.552486</td>\n",
       "      <td>7.089908</td>\n",
       "      <td>1.603857e+09</td>\n",
       "    </tr>\n",
       "    <tr>\n",
       "      <th>std</th>\n",
       "      <td>32.236130</td>\n",
       "      <td>91.873073</td>\n",
       "      <td>21.651964</td>\n",
       "      <td>20.628493</td>\n",
       "      <td>40.147014</td>\n",
       "      <td>5.142095</td>\n",
       "      <td>2.657267e+02</td>\n",
       "    </tr>\n",
       "    <tr>\n",
       "      <th>min</th>\n",
       "      <td>-54.800000</td>\n",
       "      <td>-179.170000</td>\n",
       "      <td>-5.570000</td>\n",
       "      <td>7.000000</td>\n",
       "      <td>0.000000</td>\n",
       "      <td>0.380000</td>\n",
       "      <td>1.603856e+09</td>\n",
       "    </tr>\n",
       "    <tr>\n",
       "      <th>25%</th>\n",
       "      <td>-6.690000</td>\n",
       "      <td>-65.540000</td>\n",
       "      <td>44.600000</td>\n",
       "      <td>64.000000</td>\n",
       "      <td>1.000000</td>\n",
       "      <td>3.010000</td>\n",
       "      <td>1.603857e+09</td>\n",
       "    </tr>\n",
       "    <tr>\n",
       "      <th>50%</th>\n",
       "      <td>20.950000</td>\n",
       "      <td>17.130000</td>\n",
       "      <td>63.000000</td>\n",
       "      <td>79.000000</td>\n",
       "      <td>57.000000</td>\n",
       "      <td>5.820000</td>\n",
       "      <td>1.603857e+09</td>\n",
       "    </tr>\n",
       "    <tr>\n",
       "      <th>75%</th>\n",
       "      <td>45.385000</td>\n",
       "      <td>98.770000</td>\n",
       "      <td>76.990000</td>\n",
       "      <td>89.000000</td>\n",
       "      <td>90.000000</td>\n",
       "      <td>10.235000</td>\n",
       "      <td>1.603858e+09</td>\n",
       "    </tr>\n",
       "    <tr>\n",
       "      <th>max</th>\n",
       "      <td>78.220000</td>\n",
       "      <td>179.320000</td>\n",
       "      <td>96.800000</td>\n",
       "      <td>100.000000</td>\n",
       "      <td>100.000000</td>\n",
       "      <td>28.860000</td>\n",
       "      <td>1.603858e+09</td>\n",
       "    </tr>\n",
       "  </tbody>\n",
       "</table>\n",
       "</div>"
      ],
      "text/plain": [
       "              Lat         Lng    Max Temp    Humidity  Cloudiness  Wind Speed  \\\n",
       "count  543.000000  543.000000  543.000000  543.000000  543.000000  543.000000   \n",
       "mean    18.908637   15.740092   59.634144   73.734807   50.552486    7.089908   \n",
       "std     32.236130   91.873073   21.651964   20.628493   40.147014    5.142095   \n",
       "min    -54.800000 -179.170000   -5.570000    7.000000    0.000000    0.380000   \n",
       "25%     -6.690000  -65.540000   44.600000   64.000000    1.000000    3.010000   \n",
       "50%     20.950000   17.130000   63.000000   79.000000   57.000000    5.820000   \n",
       "75%     45.385000   98.770000   76.990000   89.000000   90.000000   10.235000   \n",
       "max     78.220000  179.320000   96.800000  100.000000  100.000000   28.860000   \n",
       "\n",
       "               Date  \n",
       "count  5.430000e+02  \n",
       "mean   1.603857e+09  \n",
       "std    2.657267e+02  \n",
       "min    1.603856e+09  \n",
       "25%    1.603857e+09  \n",
       "50%    1.603857e+09  \n",
       "75%    1.603858e+09  \n",
       "max    1.603858e+09  "
      ]
     },
     "execution_count": 35,
     "metadata": {},
     "output_type": "execute_result"
    }
   ],
   "source": [
    "city_data_humid_df = city_data_df[city_data_df['Humidity'] <= 100] \n",
    "# city_data_humid_df.drop(city_data_df[city_data_df['Humidity'] > 10].index, inplace=True)\n",
    "city_data_humid_df.describe()"
   ]
  },
  {
   "cell_type": "code",
   "execution_count": 36,
   "metadata": {},
   "outputs": [
    {
     "data": {
      "text/plain": [
       "[]"
      ]
     },
     "execution_count": 36,
     "metadata": {},
     "output_type": "execute_result"
    }
   ],
   "source": [
    "#  Get the indices of cities that have humidity over 100%.\n",
    "list(city_data_df[city_data_df['Humidity'] > 100] .index)"
   ]
  },
  {
   "cell_type": "code",
   "execution_count": 37,
   "metadata": {},
   "outputs": [
    {
     "data": {
      "text/html": [
       "<div>\n",
       "<style scoped>\n",
       "    .dataframe tbody tr th:only-of-type {\n",
       "        vertical-align: middle;\n",
       "    }\n",
       "\n",
       "    .dataframe tbody tr th {\n",
       "        vertical-align: top;\n",
       "    }\n",
       "\n",
       "    .dataframe thead th {\n",
       "        text-align: right;\n",
       "    }\n",
       "</style>\n",
       "<table border=\"1\" class=\"dataframe\">\n",
       "  <thead>\n",
       "    <tr style=\"text-align: right;\">\n",
       "      <th></th>\n",
       "      <th>City</th>\n",
       "      <th>Lat</th>\n",
       "      <th>Lng</th>\n",
       "      <th>Max Temp</th>\n",
       "      <th>Humidity</th>\n",
       "      <th>Cloudiness</th>\n",
       "      <th>Wind Speed</th>\n",
       "      <th>Country</th>\n",
       "      <th>Date</th>\n",
       "    </tr>\n",
       "  </thead>\n",
       "  <tbody>\n",
       "    <tr>\n",
       "      <th>0</th>\n",
       "      <td>Mackay</td>\n",
       "      <td>-21.15</td>\n",
       "      <td>149.20</td>\n",
       "      <td>86.00</td>\n",
       "      <td>58</td>\n",
       "      <td>25</td>\n",
       "      <td>14.99</td>\n",
       "      <td>AU</td>\n",
       "      <td>1603856694</td>\n",
       "    </tr>\n",
       "    <tr>\n",
       "      <th>1</th>\n",
       "      <td>Hobart</td>\n",
       "      <td>-42.88</td>\n",
       "      <td>147.33</td>\n",
       "      <td>62.01</td>\n",
       "      <td>82</td>\n",
       "      <td>75</td>\n",
       "      <td>16.11</td>\n",
       "      <td>AU</td>\n",
       "      <td>1603856514</td>\n",
       "    </tr>\n",
       "    <tr>\n",
       "      <th>2</th>\n",
       "      <td>Rikitea</td>\n",
       "      <td>-23.12</td>\n",
       "      <td>-134.97</td>\n",
       "      <td>75.42</td>\n",
       "      <td>84</td>\n",
       "      <td>100</td>\n",
       "      <td>15.50</td>\n",
       "      <td>PF</td>\n",
       "      <td>1603856700</td>\n",
       "    </tr>\n",
       "    <tr>\n",
       "      <th>3</th>\n",
       "      <td>Vaini</td>\n",
       "      <td>-21.20</td>\n",
       "      <td>-175.20</td>\n",
       "      <td>78.80</td>\n",
       "      <td>74</td>\n",
       "      <td>20</td>\n",
       "      <td>9.17</td>\n",
       "      <td>TO</td>\n",
       "      <td>1603857147</td>\n",
       "    </tr>\n",
       "    <tr>\n",
       "      <th>4</th>\n",
       "      <td>Nikolskoye</td>\n",
       "      <td>59.70</td>\n",
       "      <td>30.79</td>\n",
       "      <td>52.00</td>\n",
       "      <td>87</td>\n",
       "      <td>90</td>\n",
       "      <td>11.18</td>\n",
       "      <td>RU</td>\n",
       "      <td>1603857148</td>\n",
       "    </tr>\n",
       "  </tbody>\n",
       "</table>\n",
       "</div>"
      ],
      "text/plain": [
       "         City    Lat     Lng  Max Temp  Humidity  Cloudiness  Wind Speed  \\\n",
       "0      Mackay -21.15  149.20     86.00        58          25       14.99   \n",
       "1      Hobart -42.88  147.33     62.01        82          75       16.11   \n",
       "2     Rikitea -23.12 -134.97     75.42        84         100       15.50   \n",
       "3       Vaini -21.20 -175.20     78.80        74          20        9.17   \n",
       "4  Nikolskoye  59.70   30.79     52.00        87          90       11.18   \n",
       "\n",
       "  Country        Date  \n",
       "0      AU  1603856694  \n",
       "1      AU  1603856514  \n",
       "2      PF  1603856700  \n",
       "3      TO  1603857147  \n",
       "4      RU  1603857148  "
      ]
     },
     "execution_count": 37,
     "metadata": {},
     "output_type": "execute_result"
    }
   ],
   "source": [
    "# Make a new DataFrame equal to the city data to drop all humidity outliers by index.\n",
    "# Passing \"inplace=False\" will make a copy of the city_data DataFrame, which we call \"clean_city_data\".\n",
    "clean_city_data = city_data_humid_df.drop(city_data_df[city_data_df['Humidity'] > 100].index, inplace=False)\n",
    "clean_city_data.head()"
   ]
  },
  {
   "cell_type": "markdown",
   "metadata": {},
   "source": [
    "## Plotting the Data\n",
    "* Use proper labeling of the plots using plot titles (including date of analysis) and axes labels.\n",
    "* Save the plotted figures as .pngs."
   ]
  },
  {
   "cell_type": "markdown",
   "metadata": {},
   "source": [
    "## Latitude vs. Temperature Plot"
   ]
  },
  {
   "cell_type": "code",
   "execution_count": 70,
   "metadata": {
    "scrolled": true
   },
   "outputs": [
    {
     "data": {
      "image/png": "[encoded data removed]",
      "text/plain": [
       "<Figure size 432x288 with 1 Axes>"
      ]
     },
     "metadata": {
      "needs_background": "light"
     },
     "output_type": "display_data"
    }
   ],
   "source": [
    "# Latitude vs Max Temperature Scatterplot\n",
    "plt.scatter(clean_city_data['Lat'], clean_city_data['Max Temp'], facecolor='blue', edgecolor=\"black\");\n",
    "plt.title('City Latitude vs. Max Temperature (10/27/20)');\n",
    "plt.xlabel('Latitude');\n",
    "plt.ylabel('Max Temperature (F)');\n",
    "plt.grid()\n",
    "plt.savefig(\"../output_data/fig1.png\")\n",
    "plt.show()"
   ]
  },
  {
   "cell_type": "markdown",
   "metadata": {},
   "source": [
    "## Latitude vs. Humidity Plot"
   ]
  },
  {
   "cell_type": "code",
   "execution_count": 71,
   "metadata": {},
   "outputs": [
    {
     "data": {
      "image/png": "[encoded data removed]",
      "text/plain": [
       "<Figure size 432x288 with 1 Axes>"
      ]
     },
     "metadata": {
      "needs_background": "light"
     },
     "output_type": "display_data"
    }
   ],
   "source": [
    "# Latitude vs Humidity Scatterplot\n",
    "plt.scatter(clean_city_data['Lat'], clean_city_data['Humidity'], facecolor='blue', edgecolor=\"black\");\n",
    "plt.title('City Latitude vs. Humidity (10/27/20)');\n",
    "plt.xlabel('Latitude');\n",
    "plt.ylabel('Humidity (%)');\n",
    "plt.grid()\n",
    "plt.savefig(\"../output_data/fig2.png\")\n",
    "plt.show()"
   ]
  },
  {
   "cell_type": "markdown",
   "metadata": {},
   "source": [
    "## Latitude vs. Cloudiness Plot"
   ]
  },
  {
   "cell_type": "code",
   "execution_count": 72,
   "metadata": {},
   "outputs": [
    {
     "data": {
      "image/png": "[encoded data removed]",
      "text/plain": [
       "<Figure size 432x288 with 1 Axes>"
      ]
     },
     "metadata": {
      "needs_background": "light"
     },
     "output_type": "display_data"
    }
   ],
   "source": [
    "# Latitude vs Cloudiness Scatterplot\n",
    "plt.scatter(clean_city_data['Lat'], clean_city_data['Cloudiness'], facecolor='blue', edgecolor=\"black\");\n",
    "plt.title('City Latitude vs. Cloudiness (10/27/20)');\n",
    "plt.xlabel('Latitude');\n",
    "plt.ylabel('Cloudiness (%)');\n",
    "plt.grid()\n",
    "plt.savefig(\"../output_data/fig3.png\")\n",
    "plt.show()"
   ]
  },
  {
   "cell_type": "markdown",
   "metadata": {},
   "source": [
    "## Latitude vs. Wind Speed Plot"
   ]
  },
  {
   "cell_type": "code",
   "execution_count": 73,
   "metadata": {},
   "outputs": [
    {
     "data": {
      "image/png": "[encoded data removed]",
      "text/plain": [
       "<Figure size 432x288 with 1 Axes>"
      ]
     },
     "metadata": {
      "needs_background": "light"
     },
     "output_type": "display_data"
    }
   ],
   "source": [
    "# Latitude vs Wind Speed Scatterplot\n",
    "plt.scatter(clean_city_data['Lat'], clean_city_data['Wind Speed'], facecolor='blue', edgecolor=\"black\");\n",
    "plt.title('City Latitude vs. Wind Speed (10/27/20)');\n",
    "plt.xlabel('Latitude');\n",
    "plt.ylabel('Wind Speed (mph)');\n",
    "plt.grid()\n",
    "plt.savefig(\"../output_data/fig4.png\")\n",
    "plt.show()"
   ]
  },
  {
   "cell_type": "markdown",
   "metadata": {},
   "source": [
    "## Linear Regression"
   ]
  },
  {
   "cell_type": "code",
   "execution_count": 74,
   "metadata": {},
   "outputs": [],
   "source": [
    "northern_hem_city_data = city_data_humid_df.drop(city_data_df[city_data_df['Lat'] > 0].index, inplace=False)\n",
    "southern_hem_city_data = city_data_humid_df.drop(city_data_df[city_data_df['Lat'] < 0].index, inplace=False)"
   ]
  },
  {
   "cell_type": "markdown",
   "metadata": {},
   "source": [
    "####  Northern Hemisphere - Max Temp vs. Latitude Linear Regression"
   ]
  },
  {
   "cell_type": "code",
   "execution_count": 75,
   "metadata": {},
   "outputs": [
    {
     "name": "stdout",
     "output_type": "stream",
     "text": [
      "The r-value is: 0.6395962769246414\n"
     ]
    },
    {
     "data": {
      "image/png": "[encoded data removed]",
      "text/plain": [
       "<Figure size 432x288 with 1 Axes>"
      ]
     },
     "metadata": {
      "needs_background": "light"
     },
     "output_type": "display_data"
    }
   ],
   "source": [
    "# Northern Hemisphere - Max Temp vs. Latitude Linear Regression\n",
    "x_valuesNH = northern_hem_city_data['Lat']\n",
    "y_valuesNH = northern_hem_city_data['Max Temp']\n",
    "(slopeNH, interceptNH, rvalueNH, pvalueNH, stderrNH) = linregress(x_valuesNH, y_valuesNH)\n",
    "regress_valuesNH = x_valuesNH * slopeNH + interceptNH\n",
    "\n",
    "print(f'The r-value is: {rvalueNH}')\n",
    "\n",
    "line_eqNH = \"y = \" + str(round(slopeNH,2)) + \"x + \" + str(round(interceptNH,2))\n",
    "\n",
    "plt.scatter(x_valuesNH, y_valuesNH, facecolor='blue', edgecolor=\"black\");\n",
    "plt.plot(x_valuesNH, regress_valuesNH, \"red\");\n",
    "plt.annotate(line_eqNH ,(-25,45),fontsize=15,color=\"red\");\n",
    "plt.title('Northern Hemisphere: City Latitude vs. Max Temperature');\n",
    "plt.xlabel('Latitude');\n",
    "plt.ylabel('Max Temperature (F)');\n",
    "plt.grid()\n",
    "plt.show()"
   ]
  },
  {
   "cell_type": "markdown",
   "metadata": {},
   "source": [
    "####  Southern Hemisphere - Max Temp vs. Latitude Linear Regression"
   ]
  },
  {
   "cell_type": "code",
   "execution_count": 76,
   "metadata": {},
   "outputs": [
    {
     "name": "stdout",
     "output_type": "stream",
     "text": [
      "The r-value is: -0.8771062571257536\n"
     ]
    },
    {
     "data": {
      "image/png": "[encoded data removed]",
      "text/plain": [
       "<Figure size 432x288 with 1 Axes>"
      ]
     },
     "metadata": {
      "needs_background": "light"
     },
     "output_type": "display_data"
    }
   ],
   "source": [
    "# Southern Hemisphere - Max Temp vs. Latitude Linear Regression\n",
    "x_valuesSH = southern_hem_city_data['Lat']\n",
    "y_valuesSH = southern_hem_city_data['Max Temp']\n",
    "(slopeSH, interceptSH, rvalueSH, pvalueSH, stderrSH) = linregress(x_valuesSH, y_valuesSH)\n",
    "regress_valuesSH = x_valuesSH * slopeSH + interceptSH\n",
    "\n",
    "print(f'The r-value is: {rvalueSH}')\n",
    "\n",
    "line_eqSH = \"y = \" + str(round(slopeSH,2)) + \"x + \" + str(round(interceptSH,2))\n",
    "\n",
    "plt.scatter(x_valuesSH, y_valuesSH, facecolor='blue', edgecolor=\"black\");\n",
    "plt.plot(x_valuesSH, regress_valuesSH, \"red\");\n",
    "plt.annotate(line_eqSH ,(0,0),fontsize=15,color=\"red\");\n",
    "plt.title('Southern Hemisphere: City Latitude vs. Max Temperature');\n",
    "plt.xlabel('Latitude');\n",
    "plt.ylabel('Max Temperature (F)');\n",
    "plt.grid()\n",
    "plt.show()"
   ]
  },
  {
   "cell_type": "markdown",
   "metadata": {},
   "source": [
    "####  Northern Hemisphere - Humidity (%) vs. Latitude Linear Regression"
   ]
  },
  {
   "cell_type": "code",
   "execution_count": 77,
   "metadata": {},
   "outputs": [
    {
     "name": "stdout",
     "output_type": "stream",
     "text": [
      "The r-value is: 0.2465814197721992\n"
     ]
    },
    {
     "data": {
      "image/png": "[encoded data removed]",
      "text/plain": [
       "<Figure size 432x288 with 1 Axes>"
      ]
     },
     "metadata": {
      "needs_background": "light"
     },
     "output_type": "display_data"
    }
   ],
   "source": [
    "# Northern Hemisphere - Humidity (%) vs. Latitude Linear Regression\n",
    "x_valuesNH2 = northern_hem_city_data['Lat']\n",
    "y_valuesNH2 = northern_hem_city_data['Humidity']\n",
    "(slopeNH2, interceptNH2, rvalueNH2, pvalueNH2, stderrNH2) = linregress(x_valuesNH2, y_valuesNH2)\n",
    "regress_valuesNH2 = x_valuesNH2 * slopeNH2 + interceptNH2\n",
    "\n",
    "print(f'The r-value is: {rvalueNH2}')\n",
    "\n",
    "line_eqNH2 = \"y = \" + str(round(slopeNH2,2)) + \"x + \" + str(round(interceptNH2,2))\n",
    "\n",
    "plt.scatter(x_valuesNH2, y_valuesNH2, facecolor='blue', edgecolor=\"black\");\n",
    "plt.plot(x_valuesNH2, regress_valuesNH2, \"red\");\n",
    "plt.annotate(line_eqNH2 ,(-55,15),fontsize=15,color=\"red\");\n",
    "plt.title('Northern Hemisphere: City Latitude vs. Humidity (%)');\n",
    "plt.xlabel('Latitude');\n",
    "plt.ylabel('Humidity (%)');\n",
    "plt.grid()\n",
    "plt.show()"
   ]
  },
  {
   "cell_type": "markdown",
   "metadata": {},
   "source": [
    "####  Southern Hemisphere - Humidity (%) vs. Latitude Linear Regression"
   ]
  },
  {
   "cell_type": "code",
   "execution_count": 78,
   "metadata": {},
   "outputs": [
    {
     "name": "stdout",
     "output_type": "stream",
     "text": [
      "The r-value is: 0.2259452478544879\n"
     ]
    },
    {
     "data": {
      "image/png": "[encoded data removed]",
      "text/plain": [
       "<Figure size 432x288 with 1 Axes>"
      ]
     },
     "metadata": {
      "needs_background": "light"
     },
     "output_type": "display_data"
    }
   ],
   "source": [
    "# Southern Hemisphere - Humidity (%)  vs. Latitude Linear Regression\n",
    "x_valuesSH2 = southern_hem_city_data['Lat']\n",
    "y_valuesSH2 = southern_hem_city_data['Humidity']\n",
    "(slopeSH2, interceptSH2, rvalueSH2, pvalueSH2, stderrSH2) = linregress(x_valuesSH2, y_valuesSH2)\n",
    "regress_valuesSH2 = x_valuesSH2 * slopeSH2 + interceptSH2\n",
    "\n",
    "print(f'The r-value is: {rvalueSH2}')\n",
    "\n",
    "line_eqSH2 = \"y = \" + str(round(slopeSH2,2)) + \"x + \" + str(round(interceptSH2,2))\n",
    "\n",
    "plt.scatter(x_valuesSH2, y_valuesSH2, facecolor='blue', edgecolor=\"black\");\n",
    "plt.plot(x_valuesSH2, regress_valuesSH2, \"red\");\n",
    "plt.annotate(line_eqSH2 ,(45,10),fontsize=15,color=\"red\");\n",
    "plt.title('Southern Hemisphere: City Latitude vs. Humidity (%)');\n",
    "plt.xlabel('Latitude');\n",
    "plt.ylabel('Humidity (%)');\n",
    "plt.grid()\n",
    "plt.show()"
   ]
  },
  {
   "cell_type": "markdown",
   "metadata": {},
   "source": [
    "####  Northern Hemisphere - Cloudiness (%) vs. Latitude Linear Regression"
   ]
  },
  {
   "cell_type": "code",
   "execution_count": 79,
   "metadata": {},
   "outputs": [
    {
     "name": "stdout",
     "output_type": "stream",
     "text": [
      "The r-value is: 0.21353321480113752\n"
     ]
    },
    {
     "data": {
      "image/png": "[encoded data removed]",
      "text/plain": [
       "<Figure size 432x288 with 1 Axes>"
      ]
     },
     "metadata": {
      "needs_background": "light"
     },
     "output_type": "display_data"
    }
   ],
   "source": [
    "# Northern Hemisphere - Cloudiness (%) vs. Latitude Linear Regression\n",
    "x_valuesNH3 = northern_hem_city_data['Lat']\n",
    "y_valuesNH3 = northern_hem_city_data['Cloudiness']\n",
    "(slopeNH3, interceptNH3, rvalueNH3, pvalueNH3, stderrNH3) = linregress(x_valuesNH3, y_valuesNH3)\n",
    "regress_valuesNH3 = x_valuesNH3 * slopeNH3 + interceptNH3\n",
    "\n",
    "print(f'The r-value is: {rvalueNH3}')\n",
    "\n",
    "line_eqNH3 = \"y = \" + str(round(slopeNH3,2)) + \"x + \" + str(round(interceptNH3,2))\n",
    "\n",
    "plt.scatter(x_valuesNH3, y_valuesNH3, facecolor='blue', edgecolor=\"black\");\n",
    "plt.plot(x_valuesNH3, regress_valuesNH3, \"red\");\n",
    "plt.annotate(line_eqNH3 ,(0,20),fontsize=15,color=\"red\");\n",
    "plt.title('Northern Hemisphere: City Latitude vs. Cloudiness (%)');\n",
    "plt.xlabel('Latitude');\n",
    "plt.ylabel('Cloudiness (%)');\n",
    "plt.grid()\n",
    "plt.show()"
   ]
  },
  {
   "cell_type": "markdown",
   "metadata": {},
   "source": [
    "####  Southern Hemisphere - Cloudiness (%) vs. Latitude Linear Regression"
   ]
  },
  {
   "cell_type": "code",
   "execution_count": 80,
   "metadata": {},
   "outputs": [
    {
     "name": "stdout",
     "output_type": "stream",
     "text": [
      "The r-value is: 0.19567030889193213\n"
     ]
    },
    {
     "data": {
      "image/png": "[encoded data removed]",
      "text/plain": [
       "<Figure size 432x288 with 1 Axes>"
      ]
     },
     "metadata": {
      "needs_background": "light"
     },
     "output_type": "display_data"
    }
   ],
   "source": [
    "# Southern Hemisphere - Cloudiness (%) vs. Latitude Linear Regression\n",
    "x_valuesSH3 = southern_hem_city_data['Lat']\n",
    "y_valuesSH3 = southern_hem_city_data['Cloudiness']\n",
    "(slopeSH3, interceptSH3, rvalueSH3, pvalueSH3, stderrSH3) = linregress(x_valuesSH3, y_valuesSH3)\n",
    "regress_valuesSH3 = x_valuesSH3 * slopeSH3 + interceptSH3\n",
    "\n",
    "print(f'The r-value is: {rvalueSH3}')\n",
    "\n",
    "line_eqSH3 = \"y = \" + str(round(slopeSH3,2)) + \"x + \" + str(round(interceptSH3,2))\n",
    "\n",
    "plt.scatter(x_valuesSH3, y_valuesSH3, facecolor='blue', edgecolor=\"black\");\n",
    "plt.plot(x_valuesSH3, regress_valuesSH3, \"red\");\n",
    "plt.annotate(line_eqSH3 ,(75,20),fontsize=15,color=\"red\");\n",
    "plt.title('Southern Hemisphere: City Latitude vs. Cloudiness (%)');\n",
    "plt.xlabel('Latitude');\n",
    "plt.ylabel('Cloudiness (%)');\n",
    "plt.grid()\n",
    "plt.show()"
   ]
  },
  {
   "cell_type": "markdown",
   "metadata": {},
   "source": [
    "####  Northern Hemisphere - Wind Speed (mph) vs. Latitude Linear Regression"
   ]
  },
  {
   "cell_type": "code",
   "execution_count": 81,
   "metadata": {},
   "outputs": [
    {
     "name": "stdout",
     "output_type": "stream",
     "text": [
      "The r-value is: -0.2732882476401572\n"
     ]
    },
    {
     "data": {
      "image/png": "[encoded data removed]",
      "text/plain": [
       "<Figure size 432x288 with 1 Axes>"
      ]
     },
     "metadata": {
      "needs_background": "light"
     },
     "output_type": "display_data"
    }
   ],
   "source": [
    "# Northern Hemisphere - Wind Speed (mph) vs. Latitude Linear Regression\n",
    "x_valuesNH4 = northern_hem_city_data['Lat']\n",
    "y_valuesNH4 = northern_hem_city_data['Wind Speed']\n",
    "(slopeNH4, interceptNH4, rvalueNH4, pvalueNH4, stderrNH4) = linregress(x_valuesNH4, y_valuesNH4)\n",
    "regress_valuesNH4 = x_valuesNH4 * slopeNH4 + interceptNH4\n",
    "\n",
    "print(f'The r-value is: {rvalueNH4}')\n",
    "\n",
    "line_eqNH4 = \"y = \" + str(round(slopeNH4,2)) + \"x + \" + str(round(interceptNH4,2))\n",
    "\n",
    "plt.scatter(x_valuesNH4, y_valuesNH4, facecolor='blue', edgecolor=\"black\");\n",
    "plt.plot(x_valuesNH4, regress_valuesNH4, \"red\");\n",
    "plt.annotate(line_eqNH4 ,(-10,23),fontsize=15,color=\"red\");\n",
    "plt.title('Northern Hemisphere: City Latitude vs. Wind Speed (mph)');\n",
    "plt.xlabel('Latitude');\n",
    "plt.ylabel('Wind Speed (mph)');\n",
    "plt.grid()\n",
    "plt.show()"
   ]
  },
  {
   "cell_type": "markdown",
   "metadata": {},
   "source": [
    "####  Southern Hemisphere - Wind Speed (mph) vs. Latitude Linear Regression"
   ]
  },
  {
   "cell_type": "code",
   "execution_count": 82,
   "metadata": {},
   "outputs": [
    {
     "name": "stdout",
     "output_type": "stream",
     "text": [
      "The r-value is: 0.2381793720668815\n"
     ]
    },
    {
     "data": {
      "image/png": "[encoded data removed]",
      "text/plain": [
       "<Figure size 432x288 with 1 Axes>"
      ]
     },
     "metadata": {
      "needs_background": "light"
     },
     "output_type": "display_data"
    }
   ],
   "source": [
    "# Southern Hemisphere - Wind Speed (mph) vs. Latitude Linear Regression\n",
    "x_valuesSH4 = southern_hem_city_data['Lat']\n",
    "y_valuesSH4 = southern_hem_city_data['Wind Speed']\n",
    "(slopeSH4, interceptSH4, rvalueSH4, pvalueSH4, stderrSH4) = linregress(x_valuesSH4, y_valuesSH4)\n",
    "regress_valuesSH4 = x_valuesSH4 * slopeSH4 + interceptSH4\n",
    "\n",
    "print(f'The r-value is: {rvalueSH4}')\n",
    "\n",
    "line_eqSH4 = \"y = \" + str(round(slopeSH4,2)) + \"x + \" + str(round(interceptSH4,2))\n",
    "\n",
    "plt.scatter(x_valuesSH4, y_valuesSH4, facecolor='blue', edgecolor=\"black\");\n",
    "plt.plot(x_valuesSH4, regress_valuesSH4, \"red\");\n",
    "plt.annotate(line_eqSH4 ,(0,27),fontsize=15,color=\"red\");\n",
    "plt.title('Southern Hemisphere: City Latitude vs. Wind Speed (mph)');\n",
    "plt.xlabel('Latitude');\n",
    "plt.ylabel('Wind Speed (mph)');\n",
    "plt.grid()\n",
    "plt.show()"
   ]
  },
  {
   "cell_type": "code",
   "execution_count": 83,
   "metadata": {},
   "outputs": [
    {
     "name": "stdout",
     "output_type": "stream",
     "text": [
      "The max temp increases the closer you get to latitude = 0 or the equator.\n",
      "\n",
      "The further north or south you go, the higher the wind speed. Meaning the lower wind speeds are closer to the equator.\n",
      "\n",
      "Cloudiness and humidity appear to be unaffected by the latitude, with humidity always being relatively high and cloudiness being uniformly spead out.\n",
      "\n"
     ]
    }
   ],
   "source": [
    "print('The max temp increases the closer you get to latitude = 0 or the equator.\\n')\n",
    "print('The further north or south you go, the higher the wind speed. Meaning the lower wind speeds are closer to the equator.\\n')\n",
    "print('Cloudiness and humidity appear to be unaffected by the latitude, with humidity always being relatively high and cloudiness being uniformly spead out.\\n')"
   ]
  },
  {
   "cell_type": "code",
   "execution_count": null,
   "metadata": {},
   "outputs": [],
   "source": []
  }
 ],
 "metadata": {
  "anaconda-cloud": {},
  "kernel_info": {
   "name": "python3"
  },
  "kernelspec": {
   "display_name": "Python 3",
   "language": "python",
   "name": "python3"
  },
  "language_info": {
   "codemirror_mode": {
    "name": "ipython",
    "version": 3
   },
   "file_extension": ".py",
   "mimetype": "text/x-python",
   "name": "python",
   "nbconvert_exporter": "python",
   "pygments_lexer": "ipython3",
   "version": "3.8.3"
  },
  "latex_envs": {
   "LaTeX_envs_menu_present": true,
   "autoclose": false,
   "autocomplete": true,
   "bibliofile": "biblio.bib",
   "cite_by": "apalike",
   "current_citInitial": 1,
   "eqLabelWithNumbers": true,
   "eqNumInitial": 1,
   "hotkeys": {
    "equation": "Ctrl-E",
    "itemize": "Ctrl-I"
   },
   "labels_anchors": false,
   "latex_user_defs": false,
   "report_style_numbering": false,
   "user_envs_cfg": false
  },
  "nteract": {
   "version": "0.12.3"
  }
 },
 "nbformat": 4,
 "nbformat_minor": 2
}
