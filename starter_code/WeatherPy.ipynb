{
 "cells": [
  {
   "cell_type": "markdown",
   "metadata": {},
   "source": [
    "# WeatherPy\n",
    "----\n",
    "\n",
    "#### Note\n",
    "* Instructions have been included for each segment. You do not have to follow them exactly, but they are included to help you think through the steps."
   ]
  },
  {
   "cell_type": "code",
   "execution_count": 1,
   "metadata": {
    "scrolled": true
   },
   "outputs": [],
   "source": [
    "# Dependencies and Setup\n",
    "import matplotlib.pyplot as plt\n",
    "import pandas as pd\n",
    "import numpy as np\n",
    "import requests\n",
    "import time\n",
    "from scipy.stats import linregress\n",
    "\n",
    "# Import API key\n",
    "from api_keys import weather_api_key\n",
    " \n",
    "# Incorporated citipy to determine city based on latitude and longitude\n",
    "from citipy import citipy\n",
    "\n",
    "# Output File (CSV)\n",
    "output_data_file = \"../output_data/cities.csv\"\n",
    "\n",
    "# Range of latitudes and longitudes\n",
    "lat_range = (-90, 90)\n",
    "lng_range = (-180, 180)"
   ]
  },
  {
   "cell_type": "markdown",
   "metadata": {},
   "source": [
    "## Generate Cities List"
   ]
  },
  {
   "cell_type": "code",
   "execution_count": 2,
   "metadata": {},
   "outputs": [
    {
     "data": {
      "text/plain": [
       "617"
      ]
     },
     "execution_count": 2,
     "metadata": {},
     "output_type": "execute_result"
    }
   ],
   "source": [
    "# List for holding lat_lngs and cities\n",
    "lat_lngs = []\n",
    "cities = []\n",
    "\n",
    "# Create a set of random lat and lng combinations\n",
    "lats = np.random.uniform(lat_range[0], lat_range[1], size=1500)\n",
    "lngs = np.random.uniform(lng_range[0], lng_range[1], size=1500)\n",
    "lat_lngs = zip(lats, lngs)\n",
    "\n",
    "# Identify nearest city for each lat, lng combination\n",
    "for lat_lng in lat_lngs:\n",
    "    city = citipy.nearest_city(lat_lng[0], lat_lng[1]).city_name\n",
    "    \n",
    "    # If the city is unique, then add it to a our cities list\n",
    "    if city not in cities:\n",
    "        cities.append(city)\n",
    "\n",
    "# Print the city count to confirm sufficient count\n",
    "len(cities)"
   ]
  },
  {
   "cell_type": "markdown",
   "metadata": {},
   "source": [
    "### Perform API Calls\n",
    "* Perform a weather check on each city using a series of successive API calls.\n",
    "* Include a print log of each city as it'sbeing processed (with the city number and city name).\n"
   ]
  },
  {
   "cell_type": "code",
   "execution_count": 3,
   "metadata": {},
   "outputs": [
    {
     "data": {
      "text/plain": [
       "'mataura'"
      ]
     },
     "execution_count": 3,
     "metadata": {},
     "output_type": "execute_result"
    }
   ],
   "source": [
    "city"
   ]
  },
  {
   "cell_type": "code",
   "execution_count": 4,
   "metadata": {
    "scrolled": true
   },
   "outputs": [
    {
     "name": "stdout",
     "output_type": "stream",
     "text": [
      "Beginning Data Retrieval\n",
      " -----------------------------\n",
      "City not found. Skipping...\n",
      "Processing Record Something of Set Another Something | punta arenas\n",
      "Processing Record Something of Set Another Something | busselton\n",
      "Processing Record Something of Set Another Something | vanimo\n",
      "Processing Record Something of Set Another Something | mayo\n",
      "Processing Record Something of Set Another Something | saint-philippe\n",
      "Processing Record Something of Set Another Something | vaini\n",
      "Processing Record Something of Set Another Something | bocas del toro\n",
      "Processing Record Something of Set Another Something | ushuaia\n",
      "Processing Record Something of Set Another Something | menongue\n",
      "Processing Record Something of Set Another Something | vao\n",
      "Processing Record Something of Set Another Something | port elizabeth\n",
      "Processing Record Something of Set Another Something | new norfolk\n",
      "Processing Record Something of Set Another Something | udachnyy\n",
      "City not found. Skipping...\n",
      "Processing Record Something of Set Another Something | sosnovo-ozerskoye\n",
      "Processing Record Something of Set Another Something | garden city\n",
      "Processing Record Something of Set Another Something | codrington\n",
      "Processing Record Something of Set Another Something | rikitea\n",
      "Processing Record Something of Set Another Something | bluff\n",
      "Processing Record Something of Set Another Something | salalah\n",
      "Processing Record Something of Set Another Something | atuona\n",
      "Processing Record Something of Set Another Something | villa union\n",
      "Processing Record Something of Set Another Something | black forest\n",
      "City not found. Skipping...\n",
      "Processing Record Something of Set Another Something | bengkulu\n",
      "Processing Record Something of Set Another Something | longyearbyen\n",
      "Processing Record Something of Set Another Something | gushi\n",
      "Processing Record Something of Set Another Something | pevek\n",
      "Processing Record Something of Set Another Something | esperance\n",
      "Processing Record Something of Set Another Something | butaritari\n",
      "Processing Record Something of Set Another Something | pizarro\n",
      "Processing Record Something of Set Another Something | pangkalanbuun\n",
      "Processing Record Something of Set Another Something | chuy\n",
      "City not found. Skipping...\n",
      "Processing Record Something of Set Another Something | port alfred\n",
      "City not found. Skipping...\n",
      "Processing Record Something of Set Another Something | nalut\n",
      "Processing Record Something of Set Another Something | grindavik\n",
      "Processing Record Something of Set Another Something | santiago del estero\n",
      "Processing Record Something of Set Another Something | georgetown\n",
      "Processing Record Something of Set Another Something | chik\n",
      "Processing Record Something of Set Another Something | jamestown\n",
      "Processing Record Something of Set Another Something | hilo\n",
      "Processing Record Something of Set Another Something | urucui\n",
      "Processing Record Something of Set Another Something | sept-iles\n",
      "Processing Record Something of Set Another Something | porto empedocle\n",
      "Processing Record Something of Set Another Something | lebu\n",
      "Processing Record Something of Set Another Something | vila velha\n",
      "Processing Record Something of Set Another Something | albany\n",
      "Processing Record Something of Set Another Something | mataura\n",
      "Processing Record Something of Set Another Something | geraldton\n",
      "Processing Record Something of Set Another Something | qaanaaq\n",
      "Processing Record Something of Set Another Something | tiksi\n",
      "Processing Record Something of Set Another Something | puerto ayora\n",
      "Processing Record Something of Set Another Something | hithadhoo\n",
      "Processing Record Something of Set Another Something | sokoto\n",
      "Processing Record Something of Set Another Something | hami\n",
      "Processing Record Something of Set Another Something | alofi\n",
      "Processing Record Something of Set Another Something | victoria\n",
      "Processing Record Something of Set Another Something | saskylakh\n",
      "Processing Record Something of Set Another Something | gat\n",
      "Processing Record Something of Set Another Something | sandwick\n",
      "Processing Record Something of Set Another Something | krasnoselkup\n",
      "Processing Record Something of Set Another Something | ankang\n",
      "Processing Record Something of Set Another Something | kruisfontein\n",
      "Processing Record Something of Set Another Something | tuktoyaktuk\n",
      "Processing Record Something of Set Another Something | east london\n",
      "Processing Record Something of Set Another Something | barrow\n",
      "Processing Record Something of Set Another Something | raudeberg\n",
      "Processing Record Something of Set Another Something | thinadhoo\n",
      "Processing Record Something of Set Another Something | brigantine\n",
      "Processing Record Something of Set Another Something | avarua\n",
      "Processing Record Something of Set Another Something | kavaratti\n",
      "Processing Record Something of Set Another Something | mezen\n",
      "Processing Record Something of Set Another Something | ilulissat\n",
      "Processing Record Something of Set Another Something | nikolskoye\n",
      "City not found. Skipping...\n",
      "Processing Record Something of Set Another Something | yellowknife\n",
      "Processing Record Something of Set Another Something | saveh\n",
      "Processing Record Something of Set Another Something | maldonado\n",
      "City not found. Skipping...\n",
      "Processing Record Something of Set Another Something | shaunavon\n",
      "City not found. Skipping...\n",
      "Processing Record Something of Set Another Something | bethel\n",
      "Processing Record Something of Set Another Something | sinnamary\n",
      "Processing Record Something of Set Another Something | chabahar\n",
      "Processing Record Something of Set Another Something | sabang\n",
      "Processing Record Something of Set Another Something | hermanus\n",
      "Processing Record Something of Set Another Something | saint-georges\n",
      "Processing Record Something of Set Another Something | mount isa\n",
      "Processing Record Something of Set Another Something | anadyr\n",
      "Processing Record Something of Set Another Something | floro\n",
      "Processing Record Something of Set Another Something | tiznit\n",
      "City not found. Skipping...\n",
      "Processing Record Something of Set Another Something | lanxi\n",
      "Processing Record Something of Set Another Something | aykhal\n",
      "Processing Record Something of Set Another Something | katsuura\n",
      "Processing Record Something of Set Another Something | singapore\n",
      "City not found. Skipping...\n",
      "Processing Record Something of Set Another Something | sitka\n",
      "Processing Record Something of Set Another Something | mahibadhoo\n",
      "Processing Record Something of Set Another Something | padang\n",
      "Processing Record Something of Set Another Something | souillac\n",
      "Processing Record Something of Set Another Something | chokurdakh\n",
      "Processing Record Something of Set Another Something | kumba\n",
      "Processing Record Something of Set Another Something | kolno\n",
      "Processing Record Something of Set Another Something | pacific grove\n",
      "Processing Record Something of Set Another Something | isangel\n",
      "Processing Record Something of Set Another Something | linfen\n",
      "Processing Record Something of Set Another Something | severo-kurilsk\n",
      "Processing Record Something of Set Another Something | at-bashi\n",
      "Processing Record Something of Set Another Something | miyako\n",
      "Processing Record Something of Set Another Something | sola\n",
      "Processing Record Something of Set Another Something | asilah\n",
      "Processing Record Something of Set Another Something | dawlatabad\n",
      "Processing Record Something of Set Another Something | riviere du rempart\n",
      "Processing Record Something of Set Another Something | dzhebariki-khaya\n",
      "Processing Record Something of Set Another Something | berlevag\n",
      "Processing Record Something of Set Another Something | luderitz\n",
      "Processing Record Something of Set Another Something | saint george\n",
      "Processing Record Something of Set Another Something | sinjai\n",
      "Processing Record Something of Set Another Something | komsomolskiy\n",
      "Processing Record Something of Set Another Something | hobart\n",
      "Processing Record Something of Set Another Something | dikson\n",
      "City not found. Skipping...\n",
      "City not found. Skipping...\n",
      "Processing Record Something of Set Another Something | manzhouli\n",
      "Processing Record Something of Set Another Something | itarema\n",
      "Processing Record Something of Set Another Something | castro\n",
      "Processing Record Something of Set Another Something | ponta delgada\n",
      "Processing Record Something of Set Another Something | ostrovnoy\n",
      "Processing Record Something of Set Another Something | faanui\n",
      "Processing Record Something of Set Another Something | cape town\n"
     ]
    },
    {
     "name": "stdout",
     "output_type": "stream",
     "text": [
      "Processing Record Something of Set Another Something | tadpatri\n",
      "Processing Record Something of Set Another Something | asau\n",
      "Processing Record Something of Set Another Something | sosva\n",
      "Processing Record Something of Set Another Something | khatanga\n",
      "Processing Record Something of Set Another Something | la rioja\n",
      "Processing Record Something of Set Another Something | yueyang\n",
      "Processing Record Something of Set Another Something | kapaa\n",
      "Processing Record Something of Set Another Something | mabaruma\n",
      "Processing Record Something of Set Another Something | sorland\n",
      "City not found. Skipping...\n",
      "City not found. Skipping...\n",
      "Processing Record Something of Set Another Something | iracoubo\n",
      "Processing Record Something of Set Another Something | nome\n",
      "Processing Record Something of Set Another Something | coquimbo\n",
      "Processing Record Something of Set Another Something | lively\n",
      "City not found. Skipping...\n",
      "City not found. Skipping...\n",
      "Processing Record Something of Set Another Something | rosarito\n",
      "Processing Record Something of Set Another Something | richards bay\n",
      "Processing Record Something of Set Another Something | kahului\n",
      "Processing Record Something of Set Another Something | sumbe\n",
      "Processing Record Something of Set Another Something | chimoio\n",
      "City not found. Skipping...\n",
      "Processing Record Something of Set Another Something | ust-tsilma\n",
      "Processing Record Something of Set Another Something | west bay\n",
      "Processing Record Something of Set Another Something | marrakesh\n",
      "Processing Record Something of Set Another Something | clyde river\n",
      "Processing Record Something of Set Another Something | arraial do cabo\n",
      "Processing Record Something of Set Another Something | boli\n",
      "City not found. Skipping...\n",
      "Processing Record Something of Set Another Something | urusha\n",
      "Processing Record Something of Set Another Something | praia da vitoria\n",
      "Processing Record Something of Set Another Something | ribeira grande\n",
      "Processing Record Something of Set Another Something | muros\n",
      "Processing Record Something of Set Another Something | ternate\n",
      "Processing Record Something of Set Another Something | chimbote\n",
      "Processing Record Something of Set Another Something | bredasdorp\n",
      "Processing Record Something of Set Another Something | kaitangata\n",
      "City not found. Skipping...\n",
      "Processing Record Something of Set Another Something | bathsheba\n",
      "Processing Record Something of Set Another Something | olafsvik\n",
      "Processing Record Something of Set Another Something | pangnirtung\n",
      "Processing Record Something of Set Another Something | saint-augustin\n",
      "Processing Record Something of Set Another Something | lagoa\n",
      "Processing Record Something of Set Another Something | rocha\n",
      "Processing Record Something of Set Another Something | atotonilco el grande\n",
      "Processing Record Something of Set Another Something | zhoukou\n",
      "Processing Record Something of Set Another Something | mar del plata\n",
      "Processing Record Something of Set Another Something | mahebourg\n",
      "Processing Record Something of Set Another Something | marzuq\n",
      "Processing Record Something of Set Another Something | beringovskiy\n",
      "Processing Record Something of Set Another Something | thompson\n",
      "Processing Record Something of Set Another Something | jinji\n",
      "City not found. Skipping...\n",
      "Processing Record Something of Set Another Something | torbay\n",
      "Processing Record Something of Set Another Something | vila franca do campo\n",
      "Processing Record Something of Set Another Something | pitimbu\n",
      "Processing Record Something of Set Another Something | provideniya\n",
      "Processing Record Something of Set Another Something | saldanha\n",
      "Processing Record Something of Set Another Something | novopokrovka\n",
      "Processing Record Something of Set Another Something | carnarvon\n",
      "City not found. Skipping...\n",
      "Processing Record Something of Set Another Something | flin flon\n",
      "Processing Record Something of Set Another Something | palmer\n",
      "City not found. Skipping...\n",
      "Processing Record Something of Set Another Something | balikpapan\n",
      "Processing Record Something of Set Another Something | elizabeth city\n",
      "Processing Record Something of Set Another Something | hokitika\n",
      "Processing Record Something of Set Another Something | hobyo\n",
      "Processing Record Something of Set Another Something | kavieng\n",
      "Processing Record Something of Set Another Something | fortuna\n",
      "Processing Record Something of Set Another Something | hirara\n",
      "Processing Record Something of Set Another Something | namibe\n",
      "Processing Record Something of Set Another Something | havelock\n",
      "Processing Record Something of Set Another Something | san patricio\n",
      "Processing Record Something of Set Another Something | bagdarin\n",
      "Processing Record Something of Set Another Something | norman wells\n",
      "Processing Record Something of Set Another Something | talnakh\n",
      "Processing Record Something of Set Another Something | sao filipe\n",
      "City not found. Skipping...\n",
      "Processing Record Something of Set Another Something | kutum\n",
      "Processing Record Something of Set Another Something | samarai\n",
      "Processing Record Something of Set Another Something | hambantota\n",
      "Processing Record Something of Set Another Something | giyani\n",
      "Processing Record Something of Set Another Something | santa cruz\n",
      "Processing Record Something of Set Another Something | maxixe\n",
      "Processing Record Something of Set Another Something | rawson\n",
      "Processing Record Something of Set Another Something | beaverlodge\n",
      "Processing Record Something of Set Another Something | loukhi\n",
      "Processing Record Something of Set Another Something | upernavik\n",
      "Processing Record Something of Set Another Something | necochea\n",
      "Processing Record Something of Set Another Something | volgo-kaspiyskiy\n",
      "Processing Record Something of Set Another Something | zima\n",
      "Processing Record Something of Set Another Something | terrace bay\n",
      "Processing Record Something of Set Another Something | uyuni\n",
      "Processing Record Something of Set Another Something | alamosa\n",
      "Processing Record Something of Set Another Something | copacabana\n",
      "Processing Record Something of Set Another Something | vestmannaeyjar\n",
      "Processing Record Something of Set Another Something | vejle\n",
      "Processing Record Something of Set Another Something | beloha\n",
      "Processing Record Something of Set Another Something | airai\n",
      "Processing Record Something of Set Another Something | podporozhye\n",
      "Processing Record Something of Set Another Something | petatlan\n",
      "Processing Record Something of Set Another Something | gamba\n",
      "Processing Record Something of Set Another Something | atasu\n",
      "Processing Record Something of Set Another Something | itatiaia\n",
      "Processing Record Something of Set Another Something | belyy yar\n",
      "Processing Record Something of Set Another Something | colorado springs\n",
      "Processing Record Something of Set Another Something | noumea\n",
      "Processing Record Something of Set Another Something | mount gambier\n",
      "Processing Record Something of Set Another Something | klaksvik\n",
      "City not found. Skipping...\n",
      "Processing Record Something of Set Another Something | butembo\n",
      "City not found. Skipping...\n",
      "Processing Record Something of Set Another Something | sangar\n",
      "Processing Record Something of Set Another Something | yerbogachen\n",
      "City not found. Skipping...\n",
      "Processing Record Something of Set Another Something | la sarre\n",
      "City not found. Skipping...\n",
      "Processing Record Something of Set Another Something | sri aman\n",
      "Processing Record Something of Set Another Something | berdigestyakh\n",
      "Processing Record Something of Set Another Something | viedma\n",
      "Processing Record Something of Set Another Something | bras-panon\n",
      "Processing Record Something of Set Another Something | laguna\n",
      "Processing Record Something of Set Another Something | gigmoto\n",
      "Processing Record Something of Set Another Something | phan thiet\n",
      "Processing Record Something of Set Another Something | vanavara\n",
      "Processing Record Something of Set Another Something | shilong\n",
      "Processing Record Something of Set Another Something | ukiah\n",
      "Processing Record Something of Set Another Something | kimbe\n",
      "City not found. Skipping...\n",
      "Processing Record Something of Set Another Something | ciudad guayana\n",
      "Processing Record Something of Set Another Something | zarechnyy\n",
      "Processing Record Something of Set Another Something | fairbanks\n",
      "Processing Record Something of Set Another Something | darhan\n",
      "Processing Record Something of Set Another Something | cabo san lucas\n",
      "City not found. Skipping...\n"
     ]
    },
    {
     "name": "stdout",
     "output_type": "stream",
     "text": [
      "Processing Record Something of Set Another Something | visby\n",
      "Processing Record Something of Set Another Something | hit\n",
      "Processing Record Something of Set Another Something | paithan\n",
      "Processing Record Something of Set Another Something | morondava\n",
      "Processing Record Something of Set Another Something | seoul\n",
      "Processing Record Something of Set Another Something | lanzhou\n",
      "Processing Record Something of Set Another Something | trinidad\n",
      "Processing Record Something of Set Another Something | tarko-sale\n",
      "Processing Record Something of Set Another Something | quatre cocos\n",
      "City not found. Skipping...\n",
      "Processing Record Something of Set Another Something | bambous virieux\n",
      "Processing Record Something of Set Another Something | nkhotakota\n",
      "Processing Record Something of Set Another Something | iranshahr\n",
      "Processing Record Something of Set Another Something | guerrero negro\n",
      "Processing Record Something of Set Another Something | turayf\n",
      "Processing Record Something of Set Another Something | malindi\n",
      "Processing Record Something of Set Another Something | lompoc\n",
      "Processing Record Something of Set Another Something | chiang klang\n",
      "Processing Record Something of Set Another Something | ekhabi\n",
      "Processing Record Something of Set Another Something | tayshet\n",
      "Processing Record Something of Set Another Something | tasiilaq\n",
      "Processing Record Something of Set Another Something | ahipara\n",
      "Processing Record Something of Set Another Something | kodiak\n",
      "Processing Record Something of Set Another Something | semey\n",
      "Processing Record Something of Set Another Something | yumen\n",
      "Processing Record Something of Set Another Something | bima\n",
      "Processing Record Something of Set Another Something | selma\n",
      "Processing Record Something of Set Another Something | kyren\n",
      "City not found. Skipping...\n",
      "Processing Record Something of Set Another Something | mahajanga\n",
      "Processing Record Something of Set Another Something | eyl\n",
      "Processing Record Something of Set Another Something | yeppoon\n",
      "Processing Record Something of Set Another Something | myitkyina\n",
      "Processing Record Something of Set Another Something | biak\n",
      "Processing Record Something of Set Another Something | toppenish\n",
      "Processing Record Something of Set Another Something | hualmay\n",
      "City not found. Skipping...\n",
      "Processing Record Something of Set Another Something | ballina\n",
      "Processing Record Something of Set Another Something | los llanos de aridane\n",
      "Processing Record Something of Set Another Something | annau\n",
      "Processing Record Something of Set Another Something | coihaique\n",
      "Processing Record Something of Set Another Something | arman\n",
      "Processing Record Something of Set Another Something | camacha\n",
      "Processing Record Something of Set Another Something | grado\n",
      "Processing Record Something of Set Another Something | verkhnyaya toyma\n",
      "Processing Record Something of Set Another Something | moree\n",
      "Processing Record Something of Set Another Something | shimoda\n",
      "Processing Record Something of Set Another Something | tianpeng\n",
      "Processing Record Something of Set Another Something | castelo do piaui\n",
      "Processing Record Something of Set Another Something | pisco\n",
      "Processing Record Something of Set Another Something | weligama\n",
      "City not found. Skipping...\n",
      "Processing Record Something of Set Another Something | kajaani\n",
      "Processing Record Something of Set Another Something | sao gabriel da cachoeira\n",
      "Processing Record Something of Set Another Something | najran\n",
      "Processing Record Something of Set Another Something | kailua\n",
      "Processing Record Something of Set Another Something | cherskiy\n",
      "Processing Record Something of Set Another Something | sovetskiy\n",
      "City not found. Skipping...\n",
      "City not found. Skipping...\n",
      "Processing Record Something of Set Another Something | hefei\n",
      "Processing Record Something of Set Another Something | kargasok\n",
      "Processing Record Something of Set Another Something | kloulklubed\n",
      "Processing Record Something of Set Another Something | robertsport\n",
      "Processing Record Something of Set Another Something | birobidzhan\n",
      "Processing Record Something of Set Another Something | gawler\n",
      "Processing Record Something of Set Another Something | touros\n",
      "Processing Record Something of Set Another Something | saint-pierre\n",
      "Processing Record Something of Set Another Something | karratha\n",
      "Processing Record Something of Set Another Something | san cristobal\n",
      "Processing Record Something of Set Another Something | oranjemund\n",
      "Processing Record Something of Set Another Something | sakakah\n",
      "Processing Record Something of Set Another Something | pombal\n",
      "Processing Record Something of Set Another Something | sabaudia\n",
      "Processing Record Something of Set Another Something | hamilton\n",
      "Processing Record Something of Set Another Something | aswan\n",
      "Processing Record Something of Set Another Something | skjervoy\n",
      "Processing Record Something of Set Another Something | broken hill\n",
      "Processing Record Something of Set Another Something | tabou\n",
      "Processing Record Something of Set Another Something | havre-saint-pierre\n",
      "Processing Record Something of Set Another Something | requena\n",
      "Processing Record Something of Set Another Something | khandyga\n",
      "Processing Record Something of Set Another Something | chitral\n",
      "City not found. Skipping...\n",
      "Processing Record Something of Set Another Something | cravo norte\n",
      "City not found. Skipping...\n",
      "Processing Record Something of Set Another Something | kangaatsiaq\n",
      "Processing Record Something of Set Another Something | mildura\n",
      "Processing Record Something of Set Another Something | shenjiamen\n",
      "Processing Record Something of Set Another Something | godda\n",
      "Processing Record Something of Set Another Something | big spring\n",
      "Processing Record Something of Set Another Something | tortoli\n",
      "Processing Record Something of Set Another Something | constitucion\n",
      "City not found. Skipping...\n",
      "Processing Record Something of Set Another Something | teknaf\n",
      "Processing Record Something of Set Another Something | sao jose da coroa grande\n",
      "Processing Record Something of Set Another Something | ler\n",
      "Processing Record Something of Set Another Something | sambava\n",
      "Processing Record Something of Set Another Something | nishihara\n",
      "Processing Record Something of Set Another Something | barranca\n",
      "Processing Record Something of Set Another Something | vostok\n",
      "Processing Record Something of Set Another Something | walvis bay\n",
      "Processing Record Something of Set Another Something | yuanping\n",
      "Processing Record Something of Set Another Something | meulaboh\n",
      "Processing Record Something of Set Another Something | alyangula\n",
      "Processing Record Something of Set Another Something | honiara\n",
      "Processing Record Something of Set Another Something | cururupu\n",
      "City not found. Skipping...\n",
      "Processing Record Something of Set Another Something | maglavit\n",
      "Processing Record Something of Set Another Something | husavik\n",
      "Processing Record Something of Set Another Something | la vista\n",
      "Processing Record Something of Set Another Something | aksu\n",
      "Processing Record Something of Set Another Something | cayenne\n",
      "Processing Record Something of Set Another Something | sarakhs\n",
      "Processing Record Something of Set Another Something | lethem\n",
      "Processing Record Something of Set Another Something | kapoeta\n",
      "Processing Record Something of Set Another Something | margate\n",
      "Processing Record Something of Set Another Something | acapulco\n",
      "City not found. Skipping...\n",
      "Processing Record Something of Set Another Something | yangjiang\n",
      "Processing Record Something of Set Another Something | jieshi\n",
      "City not found. Skipping...\n",
      "Processing Record Something of Set Another Something | boyolangu\n",
      "Processing Record Something of Set Another Something | dmitriyevka\n",
      "Processing Record Something of Set Another Something | boissevain\n",
      "Processing Record Something of Set Another Something | gravelbourg\n",
      "Processing Record Something of Set Another Something | brae\n",
      "Processing Record Something of Set Another Something | tulsipur\n",
      "Processing Record Something of Set Another Something | paamiut\n",
      "Processing Record Something of Set Another Something | cuamba\n",
      "Processing Record Something of Set Another Something | sopron\n",
      "Processing Record Something of Set Another Something | houma\n",
      "Processing Record Something of Set Another Something | alta floresta\n",
      "Processing Record Something of Set Another Something | pierre\n",
      "Processing Record Something of Set Another Something | adrar\n"
     ]
    },
    {
     "name": "stdout",
     "output_type": "stream",
     "text": [
      "Processing Record Something of Set Another Something | cockburn town\n",
      "Processing Record Something of Set Another Something | maragogi\n",
      "Processing Record Something of Set Another Something | harper\n",
      "Processing Record Something of Set Another Something | pemangkat\n",
      "Processing Record Something of Set Another Something | rafsanjan\n",
      "Processing Record Something of Set Another Something | port-cartier\n",
      "Processing Record Something of Set Another Something | gallup\n",
      "Processing Record Something of Set Another Something | wanning\n",
      "Processing Record Something of Set Another Something | high rock\n",
      "Processing Record Something of Set Another Something | bambanglipuro\n",
      "Processing Record Something of Set Another Something | siuna\n",
      "Processing Record Something of Set Another Something | riverton\n",
      "Processing Record Something of Set Another Something | doha\n",
      "Processing Record Something of Set Another Something | kaeo\n",
      "Processing Record Something of Set Another Something | nanortalik\n",
      "Processing Record Something of Set Another Something | hofn\n",
      "Processing Record Something of Set Another Something | santa maria da vitoria\n",
      "Processing Record Something of Set Another Something | karaton\n",
      "Processing Record Something of Set Another Something | tarbagatay\n",
      "Processing Record Something of Set Another Something | diffa\n",
      "Processing Record Something of Set Another Something | kisangani\n",
      "Processing Record Something of Set Another Something | krutinka\n",
      "Processing Record Something of Set Another Something | cassilandia\n",
      "Processing Record Something of Set Another Something | lata\n",
      "Processing Record Something of Set Another Something | nyaunglebin\n",
      "Processing Record Something of Set Another Something | nhulunbuy\n",
      "Processing Record Something of Set Another Something | timra\n",
      "Processing Record Something of Set Another Something | vangaindrano\n",
      "Processing Record Something of Set Another Something | verkhovazhye\n",
      "Processing Record Something of Set Another Something | antsohihy\n",
      "Processing Record Something of Set Another Something | kostomuksha\n",
      "Processing Record Something of Set Another Something | zyryanka\n",
      "Processing Record Something of Set Another Something | panzhihua\n",
      "Processing Record Something of Set Another Something | talara\n",
      "Processing Record Something of Set Another Something | tingi\n",
      "City not found. Skipping...\n",
      "Processing Record Something of Set Another Something | beroroha\n",
      "Processing Record Something of Set Another Something | gombong\n",
      "City not found. Skipping...\n",
      "Processing Record Something of Set Another Something | bubaque\n",
      "Processing Record Something of Set Another Something | bilibino\n",
      "Processing Record Something of Set Another Something | alor gajah\n",
      "Processing Record Something of Set Another Something | kedrovyy\n",
      "City not found. Skipping...\n",
      "Processing Record Something of Set Another Something | igrim\n",
      "Processing Record Something of Set Another Something | chickasha\n",
      "Processing Record Something of Set Another Something | bay city\n",
      "City not found. Skipping...\n",
      "Processing Record Something of Set Another Something | iqaluit\n",
      "City not found. Skipping...\n",
      "Processing Record Something of Set Another Something | kitgum\n",
      "Processing Record Something of Set Another Something | north bend\n",
      "City not found. Skipping...\n",
      "City not found. Skipping...\n",
      "Processing Record Something of Set Another Something | tabas\n",
      "Processing Record Something of Set Another Something | staunton\n",
      "Processing Record Something of Set Another Something | sur\n",
      "Processing Record Something of Set Another Something | martapura\n",
      "Processing Record Something of Set Another Something | santo nino\n",
      "Processing Record Something of Set Another Something | shakawe\n",
      "Processing Record Something of Set Another Something | fez\n",
      "Processing Record Something of Set Another Something | westport\n",
      "Processing Record Something of Set Another Something | gympie\n",
      "City not found. Skipping...\n",
      "Processing Record Something of Set Another Something | nong han\n",
      "Processing Record Something of Set Another Something | okhotsk\n",
      "Processing Record Something of Set Another Something | santiago de cao\n",
      "Processing Record Something of Set Another Something | dunedin\n",
      "Processing Record Something of Set Another Something | chapais\n",
      "Processing Record Something of Set Another Something | duldurga\n",
      "Processing Record Something of Set Another Something | nador\n",
      "Processing Record Something of Set Another Something | corowa\n",
      "Processing Record Something of Set Another Something | sao felix do xingu\n",
      "Processing Record Something of Set Another Something | praia\n",
      "Processing Record Something of Set Another Something | kushima\n",
      "Processing Record Something of Set Another Something | teya\n",
      "Processing Record Something of Set Another Something | kysyl-syr\n",
      "Processing Record Something of Set Another Something | pedregulho\n",
      "Processing Record Something of Set Another Something | koungou\n",
      "Processing Record Something of Set Another Something | cam ranh\n",
      "Processing Record Something of Set Another Something | urumqi\n",
      "Processing Record Something of Set Another Something | sompeta\n",
      "Processing Record Something of Set Another Something | chaupal\n",
      "Processing Record Something of Set Another Something | muroto\n",
      "Processing Record Something of Set Another Something | ruwi\n",
      "Processing Record Something of Set Another Something | kenai\n",
      "City not found. Skipping...\n",
      "City not found. Skipping...\n",
      "Processing Record Something of Set Another Something | bato\n",
      "Processing Record Something of Set Another Something | akyab\n",
      "Processing Record Something of Set Another Something | prince rupert\n",
      "Processing Record Something of Set Another Something | bilma\n",
      "Processing Record Something of Set Another Something | sarangani\n",
      "Processing Record Something of Set Another Something | tarandacuao\n",
      "Processing Record Something of Set Another Something | novaya ladoga\n",
      "Processing Record Something of Set Another Something | nelson bay\n",
      "City not found. Skipping...\n",
      "Processing Record Something of Set Another Something | nipawin\n",
      "City not found. Skipping...\n",
      "Processing Record Something of Set Another Something | nuuk\n",
      "Processing Record Something of Set Another Something | hohhot\n",
      "Processing Record Something of Set Another Something | san carlos de bariloche\n",
      "Processing Record Something of Set Another Something | qovlar\n",
      "City not found. Skipping...\n",
      "Processing Record Something of Set Another Something | bosaso\n",
      "Processing Record Something of Set Another Something | ola\n",
      "Processing Record Something of Set Another Something | poum\n",
      "Processing Record Something of Set Another Something | dhangadhi\n",
      "Processing Record Something of Set Another Something | tuy hoa\n",
      "Processing Record Something of Set Another Something | bellevue\n",
      "Processing Record Something of Set Another Something | mananara\n",
      "Processing Record Something of Set Another Something | kalabo\n",
      "Processing Record Something of Set Another Something | camopi\n",
      "Processing Record Something of Set Another Something | praya\n",
      "Processing Record Something of Set Another Something | port blair\n",
      "Processing Record Something of Set Another Something | saryg-sep\n",
      "City not found. Skipping...\n",
      "Processing Record Something of Set Another Something | lubbock\n",
      "Processing Record Something of Set Another Something | yang talat\n",
      "Processing Record Something of Set Another Something | mehamn\n",
      "Processing Record Something of Set Another Something | santa luzia\n",
      "Processing Record Something of Set Another Something | tazmalt\n",
      "Processing Record Something of Set Another Something | port keats\n",
      "Processing Record Something of Set Another Something | tanta\n",
      "Processing Record Something of Set Another Something | mahanje\n",
      "Processing Record Something of Set Another Something | nemuro\n",
      "Processing Record Something of Set Another Something | faya\n",
      "Processing Record Something of Set Another Something | te karaka\n",
      "Processing Record Something of Set Another Something | porto novo\n",
      "Processing Record Something of Set Another Something | goderich\n",
      "Processing Record Something of Set Another Something | springbok\n",
      "Processing Record Something of Set Another Something | nantucket\n",
      "Processing Record Something of Set Another Something | santa catarina de tepehuanes\n",
      "Processing Record Something of Set Another Something | marsh harbour\n",
      "Processing Record Something of Set Another Something | leningradskiy\n",
      "Processing Record Something of Set Another Something | srednekolymsk\n"
     ]
    },
    {
     "name": "stdout",
     "output_type": "stream",
     "text": [
      "Processing Record Something of Set Another Something | delmiro gouveia\n",
      "Processing Record Something of Set Another Something | college\n",
      "City not found. Skipping...\n",
      "City not found. Skipping...\n",
      "Processing Record Something of Set Another Something | yokadouma\n",
      "Processing Record Something of Set Another Something | coruripe\n",
      "Processing Record Something of Set Another Something | yaan\n",
      "Processing Record Something of Set Another Something | ayacucho\n",
      "Processing Record Something of Set Another Something | morros\n",
      "Processing Record Something of Set Another Something | cidreira\n",
      "Processing Record Something of Set Another Something | omboue\n",
      "Processing Record Something of Set Another Something | auki\n",
      "Processing Record Something of Set Another Something | amapa\n",
      "Processing Record Something of Set Another Something | bandarbeyla\n",
      "Processing Record Something of Set Another Something | lazaro cardenas\n",
      "City not found. Skipping...\n",
      "Processing Record Something of Set Another Something | dingle\n",
      "Processing Record Something of Set Another Something | ouallam\n",
      "Processing Record Something of Set Another Something | batagay\n",
      "Processing Record Something of Set Another Something | oum hadjer\n",
      "Processing Record Something of Set Another Something | indramayu\n",
      "Processing Record Something of Set Another Something | ushumun\n",
      "Processing Record Something of Set Another Something | kroya\n",
      "Processing Record Something of Set Another Something | san quintin\n",
      "Processing Record Something of Set Another Something | kshenskiy\n",
      "Processing Record Something of Set Another Something | grushevskaya\n",
      "Processing Record Something of Set Another Something | lander\n",
      "Processing Record Something of Set Another Something | melfort\n",
      "Processing Record Something of Set Another Something | lincoln\n",
      "Processing Record Something of Set Another Something | sorkjosen\n",
      "Processing Record Something of Set Another Something | egvekinot\n",
      "Processing Record Something of Set Another Something | la romana\n",
      "Processing Record Something of Set Another Something | abomsa\n",
      "Processing Record Something of Set Another Something | elko\n",
      "City not found. Skipping...\n",
      "City not found. Skipping...\n",
      "Processing Record Something of Set Another Something | port augusta\n",
      "Processing Record Something of Set Another Something | togur\n",
      "City not found. Skipping...\n",
      "City not found. Skipping...\n",
      "Processing Record Something of Set Another Something | istanbul\n",
      "Processing Record Something of Set Another Something | mana\n",
      "Processing Record Something of Set Another Something | santa isabel do rio negro\n",
      "Processing Record Something of Set Another Something | ponta do sol\n",
      "Processing Record Something of Set Another Something | palmas\n",
      "Processing Record Something of Set Another Something | placido de castro\n",
      "Processing Record Something of Set Another Something | aklavik\n",
      "Processing Record Something of Set Another Something | mackay\n",
      "Processing Record Something of Set Another Something | manokwari\n",
      "Processing Record Something of Set Another Something | tyrma\n",
      "Processing Record Something of Set Another Something | antalaha\n",
      "Processing Record Something of Set Another Something | camaqua\n",
      "Processing Record Something of Set Another Something | lubao\n",
      "City not found. Skipping...\n",
      "Processing Record Something of Set Another Something | churachandpur\n",
      "Processing Record Something of Set Another Something | qom\n",
      "Processing Record Something of Set Another Something | naze\n",
      "Processing Record Something of Set Another Something | ucluelet\n",
      "Processing Record Something of Set Another Something | izumo\n",
      "City not found. Skipping...\n",
      "Processing Record Something of Set Another Something | pisticci\n",
      "Processing Record Something of Set Another Something | lavrentiya\n",
      "Processing Record Something of Set Another Something | high prairie\n",
      "Processing Record Something of Set Another Something | whitehorse\n",
      "Processing Record Something of Set Another Something | francisco beltrao\n",
      "Processing Record Something of Set Another Something | broome\n",
      "City not found. Skipping...\n",
      "Processing Record Something of Set Another Something | glenluce\n",
      "Processing Record Something of Set Another Something | watertown\n",
      "City not found. Skipping...\n",
      "Processing Record Something of Set Another Something | pandan\n",
      "Processing Record Something of Set Another Something | punta alta\n",
      "Processing Record Something of Set Another Something | pedernales\n",
      "Processing Record Something of Set Another Something | malatya\n",
      "Processing Record Something of Set Another Something | port hardy\n"
     ]
    }
   ],
   "source": [
    "# Save config information.\n",
    "url = \"http://api.openweathermap.org/data/2.5/weather?\"\n",
    "units = \"imperial\"\n",
    "\n",
    "found_city = []\n",
    "lat = []\n",
    "lng = []\n",
    "max_temp = []\n",
    "humidity = []\n",
    "cloudiness = []\n",
    "wind_speed = []\n",
    "country = []\n",
    "date = []\n",
    "\n",
    "\n",
    "\n",
    "print('Beginning Data Retrieval\\n -----------------------------')\n",
    "for city in cities:\n",
    "    time.sleep(1)\n",
    "    query_url = f\"{url}appid={weather_api_key}&units={units}&q=\"\n",
    "    response = requests.get(query_url + city).json()\n",
    "    try:\n",
    "        found_city.append(response['name'])\n",
    "        lat.append(response['coord']['lat'])\n",
    "        lng.append(response['coord']['lon'])\n",
    "        max_temp.append(response['main']['temp_max'])\n",
    "        humidity.append(response['main']['humidity'])\n",
    "        cloudiness.append(response['clouds']['all'])\n",
    "        wind_speed.append(response['wind']['speed'])\n",
    "        country.append(response['sys']['country'])\n",
    "        date.append(response['dt'])\n",
    "        print(f\"Processing Record Something of Set Another Something | {city}\")\n",
    "    except:\n",
    "        print(f\"City not found. Skipping...\")"
   ]
  },
  {
   "cell_type": "code",
   "execution_count": null,
   "metadata": {
    "scrolled": true
   },
   "outputs": [],
   "source": []
  },
  {
   "cell_type": "markdown",
   "metadata": {},
   "source": [
    "### Convert Raw Data to DataFrame\n",
    "* Export the city data into a .csv.\n",
    "* Display the DataFrame"
   ]
  },
  {
   "cell_type": "code",
   "execution_count": 72,
   "metadata": {},
   "outputs": [
    {
     "data": {
      "text/html": [
       "<div>\n",
       "<style scoped>\n",
       "    .dataframe tbody tr th:only-of-type {\n",
       "        vertical-align: middle;\n",
       "    }\n",
       "\n",
       "    .dataframe tbody tr th {\n",
       "        vertical-align: top;\n",
       "    }\n",
       "\n",
       "    .dataframe thead th {\n",
       "        text-align: right;\n",
       "    }\n",
       "</style>\n",
       "<table border=\"1\" class=\"dataframe\">\n",
       "  <thead>\n",
       "    <tr style=\"text-align: right;\">\n",
       "      <th></th>\n",
       "      <th>City</th>\n",
       "      <th>Lat</th>\n",
       "      <th>Lng</th>\n",
       "      <th>Max Temp</th>\n",
       "      <th>Humidity</th>\n",
       "      <th>Cloudiness</th>\n",
       "      <th>Wind Speed</th>\n",
       "      <th>Country</th>\n",
       "      <th>Date</th>\n",
       "    </tr>\n",
       "  </thead>\n",
       "  <tbody>\n",
       "    <tr>\n",
       "      <th>0</th>\n",
       "      <td>Punta Arenas</td>\n",
       "      <td>-53.15</td>\n",
       "      <td>-70.92</td>\n",
       "      <td>55.40</td>\n",
       "      <td>35</td>\n",
       "      <td>40</td>\n",
       "      <td>28.86</td>\n",
       "      <td>CL</td>\n",
       "      <td>1603735654</td>\n",
       "    </tr>\n",
       "    <tr>\n",
       "      <th>1</th>\n",
       "      <td>Busselton</td>\n",
       "      <td>-33.65</td>\n",
       "      <td>115.33</td>\n",
       "      <td>55.99</td>\n",
       "      <td>72</td>\n",
       "      <td>6</td>\n",
       "      <td>4.61</td>\n",
       "      <td>AU</td>\n",
       "      <td>1603735655</td>\n",
       "    </tr>\n",
       "    <tr>\n",
       "      <th>2</th>\n",
       "      <td>Vanimo</td>\n",
       "      <td>-2.67</td>\n",
       "      <td>141.30</td>\n",
       "      <td>76.05</td>\n",
       "      <td>75</td>\n",
       "      <td>82</td>\n",
       "      <td>3.13</td>\n",
       "      <td>PG</td>\n",
       "      <td>1603735656</td>\n",
       "    </tr>\n",
       "    <tr>\n",
       "      <th>3</th>\n",
       "      <td>Mayo</td>\n",
       "      <td>38.89</td>\n",
       "      <td>-76.51</td>\n",
       "      <td>59.00</td>\n",
       "      <td>100</td>\n",
       "      <td>90</td>\n",
       "      <td>4.70</td>\n",
       "      <td>US</td>\n",
       "      <td>1603735657</td>\n",
       "    </tr>\n",
       "    <tr>\n",
       "      <th>4</th>\n",
       "      <td>Saint-Philippe</td>\n",
       "      <td>-21.36</td>\n",
       "      <td>55.77</td>\n",
       "      <td>73.40</td>\n",
       "      <td>78</td>\n",
       "      <td>0</td>\n",
       "      <td>3.36</td>\n",
       "      <td>RE</td>\n",
       "      <td>1603735658</td>\n",
       "    </tr>\n",
       "  </tbody>\n",
       "</table>\n",
       "</div>"
      ],
      "text/plain": [
       "             City    Lat     Lng  Max Temp  Humidity  Cloudiness  Wind Speed  \\\n",
       "0    Punta Arenas -53.15  -70.92     55.40        35          40       28.86   \n",
       "1       Busselton -33.65  115.33     55.99        72           6        4.61   \n",
       "2          Vanimo  -2.67  141.30     76.05        75          82        3.13   \n",
       "3            Mayo  38.89  -76.51     59.00       100          90        4.70   \n",
       "4  Saint-Philippe -21.36   55.77     73.40        78           0        3.36   \n",
       "\n",
       "  Country        Date  \n",
       "0      CL  1603735654  \n",
       "1      AU  1603735655  \n",
       "2      PG  1603735656  \n",
       "3      US  1603735657  \n",
       "4      RE  1603735658  "
      ]
     },
     "execution_count": 72,
     "metadata": {},
     "output_type": "execute_result"
    }
   ],
   "source": [
    "\n",
    "city_data_df = pd.DataFrame({'City': found_city,\n",
    "                             'Lat': lat,\n",
    "                             'Lng': lng,\n",
    "                             'Max Temp': max_temp,\n",
    "                             'Humidity': humidity,\n",
    "                             'Cloudiness': cloudiness,\n",
    "                             'Wind Speed': wind_speed,\n",
    "                             'Country': country,\n",
    "                             'Date': date}) \n",
    "  \n",
    "output_city_data = city_data_df.set_index(\"City\")\n",
    "output_city_data.to_csv(output_data_file)\n",
    "city_data_df.head()"
   ]
  },
  {
   "cell_type": "code",
   "execution_count": 73,
   "metadata": {
    "scrolled": true
   },
   "outputs": [
    {
     "data": {
      "text/html": [
       "<div>\n",
       "<style scoped>\n",
       "    .dataframe tbody tr th:only-of-type {\n",
       "        vertical-align: middle;\n",
       "    }\n",
       "\n",
       "    .dataframe tbody tr th {\n",
       "        vertical-align: top;\n",
       "    }\n",
       "\n",
       "    .dataframe thead th {\n",
       "        text-align: right;\n",
       "    }\n",
       "</style>\n",
       "<table border=\"1\" class=\"dataframe\">\n",
       "  <thead>\n",
       "    <tr style=\"text-align: right;\">\n",
       "      <th></th>\n",
       "      <th>Lat</th>\n",
       "      <th>Lng</th>\n",
       "      <th>Max Temp</th>\n",
       "      <th>Humidity</th>\n",
       "      <th>Cloudiness</th>\n",
       "      <th>Wind Speed</th>\n",
       "      <th>Date</th>\n",
       "    </tr>\n",
       "  </thead>\n",
       "  <tbody>\n",
       "    <tr>\n",
       "      <th>count</th>\n",
       "      <td>551.000000</td>\n",
       "      <td>551.000000</td>\n",
       "      <td>551.000000</td>\n",
       "      <td>551.000000</td>\n",
       "      <td>551.000000</td>\n",
       "      <td>551.000000</td>\n",
       "      <td>5.510000e+02</td>\n",
       "    </tr>\n",
       "    <tr>\n",
       "      <th>mean</th>\n",
       "      <td>20.415263</td>\n",
       "      <td>20.098385</td>\n",
       "      <td>58.838857</td>\n",
       "      <td>71.825771</td>\n",
       "      <td>53.646098</td>\n",
       "      <td>8.234882</td>\n",
       "      <td>1.603736e+09</td>\n",
       "    </tr>\n",
       "    <tr>\n",
       "      <th>std</th>\n",
       "      <td>32.810280</td>\n",
       "      <td>91.361056</td>\n",
       "      <td>22.991189</td>\n",
       "      <td>21.722267</td>\n",
       "      <td>38.463016</td>\n",
       "      <td>5.567577</td>\n",
       "      <td>2.184337e+02</td>\n",
       "    </tr>\n",
       "    <tr>\n",
       "      <th>min</th>\n",
       "      <td>-54.800000</td>\n",
       "      <td>-179.170000</td>\n",
       "      <td>-4.000000</td>\n",
       "      <td>1.000000</td>\n",
       "      <td>0.000000</td>\n",
       "      <td>0.690000</td>\n",
       "      <td>1.603735e+09</td>\n",
       "    </tr>\n",
       "    <tr>\n",
       "      <th>25%</th>\n",
       "      <td>-7.620000</td>\n",
       "      <td>-62.360000</td>\n",
       "      <td>43.000000</td>\n",
       "      <td>62.000000</td>\n",
       "      <td>18.000000</td>\n",
       "      <td>4.060000</td>\n",
       "      <td>1.603736e+09</td>\n",
       "    </tr>\n",
       "    <tr>\n",
       "      <th>50%</th>\n",
       "      <td>24.090000</td>\n",
       "      <td>27.910000</td>\n",
       "      <td>64.400000</td>\n",
       "      <td>78.000000</td>\n",
       "      <td>65.000000</td>\n",
       "      <td>6.930000</td>\n",
       "      <td>1.603736e+09</td>\n",
       "    </tr>\n",
       "    <tr>\n",
       "      <th>75%</th>\n",
       "      <td>48.730000</td>\n",
       "      <td>103.820000</td>\n",
       "      <td>77.000000</td>\n",
       "      <td>87.000000</td>\n",
       "      <td>90.000000</td>\n",
       "      <td>11.410000</td>\n",
       "      <td>1.603736e+09</td>\n",
       "    </tr>\n",
       "    <tr>\n",
       "      <th>max</th>\n",
       "      <td>78.220000</td>\n",
       "      <td>179.320000</td>\n",
       "      <td>105.550000</td>\n",
       "      <td>100.000000</td>\n",
       "      <td>100.000000</td>\n",
       "      <td>31.740000</td>\n",
       "      <td>1.603736e+09</td>\n",
       "    </tr>\n",
       "  </tbody>\n",
       "</table>\n",
       "</div>"
      ],
      "text/plain": [
       "              Lat         Lng    Max Temp    Humidity  Cloudiness  Wind Speed  \\\n",
       "count  551.000000  551.000000  551.000000  551.000000  551.000000  551.000000   \n",
       "mean    20.415263   20.098385   58.838857   71.825771   53.646098    8.234882   \n",
       "std     32.810280   91.361056   22.991189   21.722267   38.463016    5.567577   \n",
       "min    -54.800000 -179.170000   -4.000000    1.000000    0.000000    0.690000   \n",
       "25%     -7.620000  -62.360000   43.000000   62.000000   18.000000    4.060000   \n",
       "50%     24.090000   27.910000   64.400000   78.000000   65.000000    6.930000   \n",
       "75%     48.730000  103.820000   77.000000   87.000000   90.000000   11.410000   \n",
       "max     78.220000  179.320000  105.550000  100.000000  100.000000   31.740000   \n",
       "\n",
       "               Date  \n",
       "count  5.510000e+02  \n",
       "mean   1.603736e+09  \n",
       "std    2.184337e+02  \n",
       "min    1.603735e+09  \n",
       "25%    1.603736e+09  \n",
       "50%    1.603736e+09  \n",
       "75%    1.603736e+09  \n",
       "max    1.603736e+09  "
      ]
     },
     "execution_count": 73,
     "metadata": {},
     "output_type": "execute_result"
    }
   ],
   "source": [
    "city_data_df.describe()"
   ]
  },
  {
   "cell_type": "code",
   "execution_count": 74,
   "metadata": {},
   "outputs": [
    {
     "data": {
      "text/plain": [
       "551"
      ]
     },
     "execution_count": 74,
     "metadata": {},
     "output_type": "execute_result"
    }
   ],
   "source": [
    "len(city_data_df)"
   ]
  },
  {
   "cell_type": "code",
   "execution_count": 75,
   "metadata": {},
   "outputs": [
    {
     "data": {
      "text/plain": [
       "551"
      ]
     },
     "execution_count": 75,
     "metadata": {},
     "output_type": "execute_result"
    }
   ],
   "source": [
    "city_data_humid_df = city_data_df[city_data_df['Humidity'] <= 100] \n",
    "# city_data_humid_df.drop(city_data_df[city_data_df['Humidity'] > 10].index, inplace=True)\n",
    "len(city_data_humid_df)"
   ]
  },
  {
   "cell_type": "markdown",
   "metadata": {},
   "source": [
    "## Inspect the data and remove the cities where the humidity > 100%.\n",
    "----\n",
    "Skip this step if there are no cities that have humidity > 100%. "
   ]
  },
  {
   "cell_type": "code",
   "execution_count": 76,
   "metadata": {},
   "outputs": [
    {
     "data": {
      "text/html": [
       "<div>\n",
       "<style scoped>\n",
       "    .dataframe tbody tr th:only-of-type {\n",
       "        vertical-align: middle;\n",
       "    }\n",
       "\n",
       "    .dataframe tbody tr th {\n",
       "        vertical-align: top;\n",
       "    }\n",
       "\n",
       "    .dataframe thead th {\n",
       "        text-align: right;\n",
       "    }\n",
       "</style>\n",
       "<table border=\"1\" class=\"dataframe\">\n",
       "  <thead>\n",
       "    <tr style=\"text-align: right;\">\n",
       "      <th></th>\n",
       "      <th>Lat</th>\n",
       "      <th>Lng</th>\n",
       "      <th>Max Temp</th>\n",
       "      <th>Humidity</th>\n",
       "      <th>Cloudiness</th>\n",
       "      <th>Wind Speed</th>\n",
       "      <th>Date</th>\n",
       "    </tr>\n",
       "  </thead>\n",
       "  <tbody>\n",
       "    <tr>\n",
       "      <th>count</th>\n",
       "      <td>551.000000</td>\n",
       "      <td>551.000000</td>\n",
       "      <td>551.000000</td>\n",
       "      <td>551.000000</td>\n",
       "      <td>551.000000</td>\n",
       "      <td>551.000000</td>\n",
       "      <td>5.510000e+02</td>\n",
       "    </tr>\n",
       "    <tr>\n",
       "      <th>mean</th>\n",
       "      <td>20.415263</td>\n",
       "      <td>20.098385</td>\n",
       "      <td>58.838857</td>\n",
       "      <td>71.825771</td>\n",
       "      <td>53.646098</td>\n",
       "      <td>8.234882</td>\n",
       "      <td>1.603736e+09</td>\n",
       "    </tr>\n",
       "    <tr>\n",
       "      <th>std</th>\n",
       "      <td>32.810280</td>\n",
       "      <td>91.361056</td>\n",
       "      <td>22.991189</td>\n",
       "      <td>21.722267</td>\n",
       "      <td>38.463016</td>\n",
       "      <td>5.567577</td>\n",
       "      <td>2.184337e+02</td>\n",
       "    </tr>\n",
       "    <tr>\n",
       "      <th>min</th>\n",
       "      <td>-54.800000</td>\n",
       "      <td>-179.170000</td>\n",
       "      <td>-4.000000</td>\n",
       "      <td>1.000000</td>\n",
       "      <td>0.000000</td>\n",
       "      <td>0.690000</td>\n",
       "      <td>1.603735e+09</td>\n",
       "    </tr>\n",
       "    <tr>\n",
       "      <th>25%</th>\n",
       "      <td>-7.620000</td>\n",
       "      <td>-62.360000</td>\n",
       "      <td>43.000000</td>\n",
       "      <td>62.000000</td>\n",
       "      <td>18.000000</td>\n",
       "      <td>4.060000</td>\n",
       "      <td>1.603736e+09</td>\n",
       "    </tr>\n",
       "    <tr>\n",
       "      <th>50%</th>\n",
       "      <td>24.090000</td>\n",
       "      <td>27.910000</td>\n",
       "      <td>64.400000</td>\n",
       "      <td>78.000000</td>\n",
       "      <td>65.000000</td>\n",
       "      <td>6.930000</td>\n",
       "      <td>1.603736e+09</td>\n",
       "    </tr>\n",
       "    <tr>\n",
       "      <th>75%</th>\n",
       "      <td>48.730000</td>\n",
       "      <td>103.820000</td>\n",
       "      <td>77.000000</td>\n",
       "      <td>87.000000</td>\n",
       "      <td>90.000000</td>\n",
       "      <td>11.410000</td>\n",
       "      <td>1.603736e+09</td>\n",
       "    </tr>\n",
       "    <tr>\n",
       "      <th>max</th>\n",
       "      <td>78.220000</td>\n",
       "      <td>179.320000</td>\n",
       "      <td>105.550000</td>\n",
       "      <td>100.000000</td>\n",
       "      <td>100.000000</td>\n",
       "      <td>31.740000</td>\n",
       "      <td>1.603736e+09</td>\n",
       "    </tr>\n",
       "  </tbody>\n",
       "</table>\n",
       "</div>"
      ],
      "text/plain": [
       "              Lat         Lng    Max Temp    Humidity  Cloudiness  Wind Speed  \\\n",
       "count  551.000000  551.000000  551.000000  551.000000  551.000000  551.000000   \n",
       "mean    20.415263   20.098385   58.838857   71.825771   53.646098    8.234882   \n",
       "std     32.810280   91.361056   22.991189   21.722267   38.463016    5.567577   \n",
       "min    -54.800000 -179.170000   -4.000000    1.000000    0.000000    0.690000   \n",
       "25%     -7.620000  -62.360000   43.000000   62.000000   18.000000    4.060000   \n",
       "50%     24.090000   27.910000   64.400000   78.000000   65.000000    6.930000   \n",
       "75%     48.730000  103.820000   77.000000   87.000000   90.000000   11.410000   \n",
       "max     78.220000  179.320000  105.550000  100.000000  100.000000   31.740000   \n",
       "\n",
       "               Date  \n",
       "count  5.510000e+02  \n",
       "mean   1.603736e+09  \n",
       "std    2.184337e+02  \n",
       "min    1.603735e+09  \n",
       "25%    1.603736e+09  \n",
       "50%    1.603736e+09  \n",
       "75%    1.603736e+09  \n",
       "max    1.603736e+09  "
      ]
     },
     "execution_count": 76,
     "metadata": {},
     "output_type": "execute_result"
    }
   ],
   "source": [
    "city_data_humid_df = city_data_df[city_data_df['Humidity'] <= 100] \n",
    "# city_data_humid_df.drop(city_data_df[city_data_df['Humidity'] > 10].index, inplace=True)\n",
    "city_data_humid_df.describe()"
   ]
  },
  {
   "cell_type": "code",
   "execution_count": 77,
   "metadata": {},
   "outputs": [
    {
     "data": {
      "text/plain": [
       "[]"
      ]
     },
     "execution_count": 77,
     "metadata": {},
     "output_type": "execute_result"
    }
   ],
   "source": [
    "#  Get the indices of cities that have humidity over 100%.\n",
    "list(city_data_df[city_data_df['Humidity'] > 100] .index)"
   ]
  },
  {
   "cell_type": "code",
   "execution_count": 78,
   "metadata": {},
   "outputs": [
    {
     "data": {
      "text/html": [
       "<div>\n",
       "<style scoped>\n",
       "    .dataframe tbody tr th:only-of-type {\n",
       "        vertical-align: middle;\n",
       "    }\n",
       "\n",
       "    .dataframe tbody tr th {\n",
       "        vertical-align: top;\n",
       "    }\n",
       "\n",
       "    .dataframe thead th {\n",
       "        text-align: right;\n",
       "    }\n",
       "</style>\n",
       "<table border=\"1\" class=\"dataframe\">\n",
       "  <thead>\n",
       "    <tr style=\"text-align: right;\">\n",
       "      <th></th>\n",
       "      <th>City</th>\n",
       "      <th>Lat</th>\n",
       "      <th>Lng</th>\n",
       "      <th>Max Temp</th>\n",
       "      <th>Humidity</th>\n",
       "      <th>Cloudiness</th>\n",
       "      <th>Wind Speed</th>\n",
       "      <th>Country</th>\n",
       "      <th>Date</th>\n",
       "    </tr>\n",
       "  </thead>\n",
       "  <tbody>\n",
       "    <tr>\n",
       "      <th>0</th>\n",
       "      <td>Punta Arenas</td>\n",
       "      <td>-53.15</td>\n",
       "      <td>-70.92</td>\n",
       "      <td>55.40</td>\n",
       "      <td>35</td>\n",
       "      <td>40</td>\n",
       "      <td>28.86</td>\n",
       "      <td>CL</td>\n",
       "      <td>1603735654</td>\n",
       "    </tr>\n",
       "    <tr>\n",
       "      <th>1</th>\n",
       "      <td>Busselton</td>\n",
       "      <td>-33.65</td>\n",
       "      <td>115.33</td>\n",
       "      <td>55.99</td>\n",
       "      <td>72</td>\n",
       "      <td>6</td>\n",
       "      <td>4.61</td>\n",
       "      <td>AU</td>\n",
       "      <td>1603735655</td>\n",
       "    </tr>\n",
       "    <tr>\n",
       "      <th>2</th>\n",
       "      <td>Vanimo</td>\n",
       "      <td>-2.67</td>\n",
       "      <td>141.30</td>\n",
       "      <td>76.05</td>\n",
       "      <td>75</td>\n",
       "      <td>82</td>\n",
       "      <td>3.13</td>\n",
       "      <td>PG</td>\n",
       "      <td>1603735656</td>\n",
       "    </tr>\n",
       "    <tr>\n",
       "      <th>3</th>\n",
       "      <td>Mayo</td>\n",
       "      <td>38.89</td>\n",
       "      <td>-76.51</td>\n",
       "      <td>59.00</td>\n",
       "      <td>100</td>\n",
       "      <td>90</td>\n",
       "      <td>4.70</td>\n",
       "      <td>US</td>\n",
       "      <td>1603735657</td>\n",
       "    </tr>\n",
       "    <tr>\n",
       "      <th>4</th>\n",
       "      <td>Saint-Philippe</td>\n",
       "      <td>-21.36</td>\n",
       "      <td>55.77</td>\n",
       "      <td>73.40</td>\n",
       "      <td>78</td>\n",
       "      <td>0</td>\n",
       "      <td>3.36</td>\n",
       "      <td>RE</td>\n",
       "      <td>1603735658</td>\n",
       "    </tr>\n",
       "  </tbody>\n",
       "</table>\n",
       "</div>"
      ],
      "text/plain": [
       "             City    Lat     Lng  Max Temp  Humidity  Cloudiness  Wind Speed  \\\n",
       "0    Punta Arenas -53.15  -70.92     55.40        35          40       28.86   \n",
       "1       Busselton -33.65  115.33     55.99        72           6        4.61   \n",
       "2          Vanimo  -2.67  141.30     76.05        75          82        3.13   \n",
       "3            Mayo  38.89  -76.51     59.00       100          90        4.70   \n",
       "4  Saint-Philippe -21.36   55.77     73.40        78           0        3.36   \n",
       "\n",
       "  Country        Date  \n",
       "0      CL  1603735654  \n",
       "1      AU  1603735655  \n",
       "2      PG  1603735656  \n",
       "3      US  1603735657  \n",
       "4      RE  1603735658  "
      ]
     },
     "execution_count": 78,
     "metadata": {},
     "output_type": "execute_result"
    }
   ],
   "source": [
    "# Make a new DataFrame equal to the city data to drop all humidity outliers by index.\n",
    "# Passing \"inplace=False\" will make a copy of the city_data DataFrame, which we call \"clean_city_data\".\n",
    "clean_city_data = city_data_humid_df.drop(city_data_df[city_data_df['Humidity'] > 100].index, inplace=False)\n",
    "clean_city_data.head()"
   ]
  },
  {
   "cell_type": "markdown",
   "metadata": {},
   "source": [
    "## Plotting the Data\n",
    "* Use proper labeling of the plots using plot titles (including date of analysis) and axes labels.\n",
    "* Save the plotted figures as .pngs."
   ]
  },
  {
   "cell_type": "markdown",
   "metadata": {},
   "source": [
    "## Latitude vs. Temperature Plot"
   ]
  },
  {
   "cell_type": "code",
   "execution_count": 79,
   "metadata": {
    "scrolled": true
   },
   "outputs": [
    {
     "data": {
      "image/png": "[encoded data removed]",
      "text/plain": [
       "<Figure size 432x288 with 1 Axes>"
      ]
     },
     "metadata": {
      "needs_background": "light"
     },
     "output_type": "display_data"
    }
   ],
   "source": [
    "plt.scatter(clean_city_data['Lat'], clean_city_data['Max Temp'], facecolor='blue', edgecolor=\"black\");\n",
    "plt.title('City Latitude vs. Max Temperature (10/27/20)');\n",
    "plt.xlabel('Latitude');\n",
    "plt.ylabel('Max Temperature (F)');\n",
    "plt.grid()\n",
    "plt.show()"
   ]
  },
  {
   "cell_type": "markdown",
   "metadata": {},
   "source": [
    "## Latitude vs. Humidity Plot"
   ]
  },
  {
   "cell_type": "code",
   "execution_count": 80,
   "metadata": {},
   "outputs": [
    {
     "data": {
      "image/png": "[encoded data removed]",
      "text/plain": [
       "<Figure size 432x288 with 1 Axes>"
      ]
     },
     "metadata": {
      "needs_background": "light"
     },
     "output_type": "display_data"
    }
   ],
   "source": [
    "plt.scatter(clean_city_data['Lat'], clean_city_data['Humidity'], facecolor='blue', edgecolor=\"black\");\n",
    "plt.title('City Latitude vs. Humidity (10/27/20)');\n",
    "plt.xlabel('Latitude');\n",
    "plt.ylabel('Humidity (%)');\n",
    "plt.grid()\n",
    "plt.show()"
   ]
  },
  {
   "cell_type": "markdown",
   "metadata": {},
   "source": [
    "## Latitude vs. Cloudiness Plot"
   ]
  },
  {
   "cell_type": "code",
   "execution_count": 81,
   "metadata": {},
   "outputs": [
    {
     "data": {
      "image/png": "[encoded data removed]",
      "text/plain": [
       "<Figure size 432x288 with 1 Axes>"
      ]
     },
     "metadata": {
      "needs_background": "light"
     },
     "output_type": "display_data"
    }
   ],
   "source": [
    "plt.scatter(clean_city_data['Lat'], clean_city_data['Cloudiness'], facecolor='blue', edgecolor=\"black\");\n",
    "plt.title('City Latitude vs. Cloudiness (10/27/20)');\n",
    "plt.xlabel('Latitude');\n",
    "plt.ylabel('Cloudiness (%)');\n",
    "plt.grid()\n",
    "plt.show()"
   ]
  },
  {
   "cell_type": "markdown",
   "metadata": {},
   "source": [
    "## Latitude vs. Wind Speed Plot"
   ]
  },
  {
   "cell_type": "code",
   "execution_count": 82,
   "metadata": {},
   "outputs": [
    {
     "data": {
      "image/png": "[encoded data removed]",
      "text/plain": [
       "<Figure size 432x288 with 1 Axes>"
      ]
     },
     "metadata": {
      "needs_background": "light"
     },
     "output_type": "display_data"
    }
   ],
   "source": [
    "plt.scatter(clean_city_data['Lat'], clean_city_data['Wind Speed'], facecolor='blue', edgecolor=\"black\");\n",
    "plt.title('City Latitude vs. Wind Speed (10/27/20)');\n",
    "plt.xlabel('Latitude');\n",
    "plt.ylabel('Wind Speed (mph)');\n",
    "plt.grid()\n",
    "plt.show()"
   ]
  },
  {
   "cell_type": "markdown",
   "metadata": {},
   "source": [
    "## Linear Regression"
   ]
  },
  {
   "cell_type": "code",
   "execution_count": 83,
   "metadata": {},
   "outputs": [],
   "source": [
    "northern_hem_city_data = city_data_humid_df.drop(city_data_df[city_data_df['Lat'] > 0].index, inplace=False)\n",
    "southern_hem_city_data = city_data_humid_df.drop(city_data_df[city_data_df['Lat'] < 0].index, inplace=False)"
   ]
  },
  {
   "cell_type": "markdown",
   "metadata": {},
   "source": [
    "####  Northern Hemisphere - Max Temp vs. Latitude Linear Regression"
   ]
  },
  {
   "cell_type": "code",
   "execution_count": 84,
   "metadata": {},
   "outputs": [
    {
     "name": "stdout",
     "output_type": "stream",
     "text": [
      "The r-value is: 0.72754835076973\n"
     ]
    },
    {
     "data": {
      "image/png": "[encoded data removed]",
      "text/plain": [
       "<Figure size 432x288 with 1 Axes>"
      ]
     },
     "metadata": {
      "needs_background": "light"
     },
     "output_type": "display_data"
    }
   ],
   "source": [
    "# Northern Hemisphere - Max Temp vs. Latitude Linear Regression\n",
    "x_valuesNH = northern_hem_city_data['Lat']\n",
    "y_valuesNH = northern_hem_city_data['Max Temp']\n",
    "(slopeNH, interceptNH, rvalueNH, pvalueNH, stderrNH) = linregress(x_valuesNH, y_valuesNH)\n",
    "regress_valuesNH = x_valuesNH * slopeNH + interceptNH\n",
    "\n",
    "print(f'The r-value is: {rvalueNH}')\n",
    "\n",
    "line_eqNH = \"y = \" + str(round(slopeNH,2)) + \"x + \" + str(round(interceptNH,2))\n",
    "\n",
    "plt.scatter(x_valuesNH, y_valuesNH, facecolor='blue', edgecolor=\"black\");\n",
    "plt.plot(x_valuesNH, regress_valuesNH, \"red\");\n",
    "plt.annotate(line_eqNH ,(-25,50),fontsize=15,color=\"red\");\n",
    "plt.title('Northern Hemisphere: City Latitude vs. Max Temperature');\n",
    "plt.xlabel('Latitude');\n",
    "plt.ylabel('Max Temperature (F)');\n",
    "plt.grid()\n",
    "plt.show()"
   ]
  },
  {
   "cell_type": "markdown",
   "metadata": {},
   "source": [
    "####  Southern Hemisphere - Max Temp vs. Latitude Linear Regression"
   ]
  },
  {
   "cell_type": "code",
   "execution_count": 85,
   "metadata": {},
   "outputs": [
    {
     "name": "stdout",
     "output_type": "stream",
     "text": [
      "The r-value is: -0.8688210304317449\n"
     ]
    },
    {
     "data": {
      "image/png": "[encoded data removed]",
      "text/plain": [
       "<Figure size 432x288 with 1 Axes>"
      ]
     },
     "metadata": {
      "needs_background": "light"
     },
     "output_type": "display_data"
    }
   ],
   "source": [
    "# Southern Hemisphere - Max Temp vs. Latitude Linear Regression\n",
    "x_valuesSH = southern_hem_city_data['Lat']\n",
    "y_valuesSH = southern_hem_city_data['Max Temp']\n",
    "(slopeSH, interceptSH, rvalueSH, pvalueSH, stderrSH) = linregress(x_valuesSH, y_valuesSH)\n",
    "regress_valuesSH = x_valuesSH * slopeSH + interceptSH\n",
    "\n",
    "print(f'The r-value is: {rvalueSH}')\n",
    "\n",
    "line_eqSH = \"y = \" + str(round(slopeSH,2)) + \"x + \" + str(round(interceptSH,2))\n",
    "\n",
    "plt.scatter(x_valuesSH, y_valuesSH, facecolor='blue', edgecolor=\"black\");\n",
    "plt.plot(x_valuesSH, regress_valuesSH, \"red\");\n",
    "plt.annotate(line_eqSH ,(0,0),fontsize=15,color=\"red\");\n",
    "plt.title('Southern Hemisphere: City Latitude vs. Max Temperature');\n",
    "plt.xlabel('Latitude');\n",
    "plt.ylabel('Max Temperature (F)');\n",
    "plt.grid()\n",
    "plt.show()"
   ]
  },
  {
   "cell_type": "markdown",
   "metadata": {},
   "source": [
    "####  Northern Hemisphere - Humidity (%) vs. Latitude Linear Regression"
   ]
  },
  {
   "cell_type": "code",
   "execution_count": 86,
   "metadata": {},
   "outputs": [
    {
     "name": "stdout",
     "output_type": "stream",
     "text": [
      "The r-value is: -0.014885323550110928\n"
     ]
    },
    {
     "data": {
      "image/png": "[encoded data removed]",
      "text/plain": [
       "<Figure size 432x288 with 1 Axes>"
      ]
     },
     "metadata": {
      "needs_background": "light"
     },
     "output_type": "display_data"
    }
   ],
   "source": [
    "# Northern Hemisphere - Humidity (%) vs. Latitude Linear Regression\n",
    "x_valuesNH2 = northern_hem_city_data['Lat']\n",
    "y_valuesNH2 = northern_hem_city_data['Humidity']\n",
    "(slopeNH2, interceptNH2, rvalueNH2, pvalueNH2, stderrNH2) = linregress(x_valuesNH2, y_valuesNH2)\n",
    "regress_valuesNH2 = x_valuesNH2 * slopeNH2 + interceptNH2\n",
    "\n",
    "print(f'The r-value is: {rvalueNH2}')\n",
    "\n",
    "line_eqNH2 = \"y = \" + str(round(slopeNH2,2)) + \"x + \" + str(round(interceptNH2,2))\n",
    "\n",
    "plt.scatter(x_valuesNH2, y_valuesNH2, facecolor='blue', edgecolor=\"black\");\n",
    "plt.plot(x_valuesNH2, regress_valuesNH2, \"red\");\n",
    "plt.annotate(line_eqNH2 ,(0,20),fontsize=15,color=\"red\");\n",
    "plt.title('Northern Hemisphere: City Latitude vs. Humidity (%)');\n",
    "plt.xlabel('Latitude');\n",
    "plt.ylabel('Humidity (%)');\n",
    "plt.grid()\n",
    "plt.show()"
   ]
  },
  {
   "cell_type": "markdown",
   "metadata": {},
   "source": [
    "####  Southern Hemisphere - Humidity (%) vs. Latitude Linear Regression"
   ]
  },
  {
   "cell_type": "code",
   "execution_count": 87,
   "metadata": {},
   "outputs": [
    {
     "name": "stdout",
     "output_type": "stream",
     "text": [
      "The r-value is: 0.29740190178190173\n"
     ]
    },
    {
     "data": {
      "image/png": "[encoded data removed]",
      "text/plain": [
       "<Figure size 432x288 with 1 Axes>"
      ]
     },
     "metadata": {
      "needs_background": "light"
     },
     "output_type": "display_data"
    }
   ],
   "source": [
    "# Southern Hemisphere - Humidity (%)  vs. Latitude Linear Regression\n",
    "x_valuesSH2 = southern_hem_city_data['Lat']\n",
    "y_valuesSH2 = southern_hem_city_data['Humidity']\n",
    "(slopeSH2, interceptSH2, rvalueSH2, pvalueSH2, stderrSH2) = linregress(x_valuesSH2, y_valuesSH2)\n",
    "regress_valuesSH2 = x_valuesSH2 * slopeSH2 + interceptSH2\n",
    "\n",
    "print(f'The r-value is: {rvalueSH2}')\n",
    "\n",
    "line_eqSH2 = \"y = \" + str(round(slopeSH2,2)) + \"x + \" + str(round(interceptSH2,2))\n",
    "\n",
    "plt.scatter(x_valuesSH2, y_valuesSH2, facecolor='blue', edgecolor=\"black\");\n",
    "plt.plot(x_valuesSH2, regress_valuesSH2, \"red\");\n",
    "plt.annotate(line_eqSH2 ,(40,0),fontsize=15,color=\"red\");\n",
    "plt.title('Southern Hemisphere: City Latitude vs. Humidity (%)');\n",
    "plt.xlabel('Latitude');\n",
    "plt.ylabel('Humidity (%)');\n",
    "plt.grid()\n",
    "plt.show()"
   ]
  },
  {
   "cell_type": "markdown",
   "metadata": {},
   "source": [
    "####  Northern Hemisphere - Cloudiness (%) vs. Latitude Linear Regression"
   ]
  },
  {
   "cell_type": "code",
   "execution_count": 88,
   "metadata": {},
   "outputs": [
    {
     "name": "stdout",
     "output_type": "stream",
     "text": [
      "The r-value is: 0.05931752670821223\n"
     ]
    },
    {
     "data": {
      "image/png": "[encoded data removed]",
      "text/plain": [
       "<Figure size 432x288 with 1 Axes>"
      ]
     },
     "metadata": {
      "needs_background": "light"
     },
     "output_type": "display_data"
    }
   ],
   "source": [
    "# Northern Hemisphere - Cloudiness (%) vs. Latitude Linear Regression\n",
    "x_valuesNH3 = northern_hem_city_data['Lat']\n",
    "y_valuesNH3 = northern_hem_city_data['Cloudiness']\n",
    "(slopeNH3, interceptNH3, rvalueNH3, pvalueNH3, stderrNH3) = linregress(x_valuesNH3, y_valuesNH3)\n",
    "regress_valuesNH3 = x_valuesNH3 * slopeNH3 + interceptNH3\n",
    "\n",
    "print(f'The r-value is: {rvalueNH3}')\n",
    "\n",
    "line_eqNH3 = \"y = \" + str(round(slopeNH3,2)) + \"x + \" + str(round(interceptNH3,2))\n",
    "\n",
    "plt.scatter(x_valuesNH3, y_valuesNH3, facecolor='blue', edgecolor=\"black\");\n",
    "plt.plot(x_valuesNH3, regress_valuesNH3, \"red\");\n",
    "plt.annotate(line_eqNH3 ,(0,20),fontsize=15,color=\"red\");\n",
    "plt.title('Northern Hemisphere: City Latitude vs. Cloudiness (%)');\n",
    "plt.xlabel('Latitude');\n",
    "plt.ylabel('Cloudiness (%)');\n",
    "plt.grid()\n",
    "plt.show()"
   ]
  },
  {
   "cell_type": "markdown",
   "metadata": {},
   "source": [
    "####  Southern Hemisphere - Cloudiness (%) vs. Latitude Linear Regression"
   ]
  },
  {
   "cell_type": "code",
   "execution_count": 89,
   "metadata": {},
   "outputs": [
    {
     "name": "stdout",
     "output_type": "stream",
     "text": [
      "The r-value is: 0.1746040732804946\n"
     ]
    },
    {
     "data": {
      "image/png": "[encoded data removed]",
      "text/plain": [
       "<Figure size 432x288 with 1 Axes>"
      ]
     },
     "metadata": {
      "needs_background": "light"
     },
     "output_type": "display_data"
    }
   ],
   "source": [
    "# Southern Hemisphere - Cloudiness (%) vs. Latitude Linear Regression\n",
    "x_valuesSH3 = southern_hem_city_data['Lat']\n",
    "y_valuesSH3 = southern_hem_city_data['Cloudiness']\n",
    "(slopeSH3, interceptSH3, rvalueSH3, pvalueSH3, stderrSH3) = linregress(x_valuesSH3, y_valuesSH3)\n",
    "regress_valuesSH3 = x_valuesSH3 * slopeSH3 + interceptSH3\n",
    "\n",
    "print(f'The r-value is: {rvalueSH3}')\n",
    "\n",
    "line_eqSH3 = \"y = \" + str(round(slopeSH3,2)) + \"x + \" + str(round(interceptSH3,2))\n",
    "\n",
    "plt.scatter(x_valuesSH3, y_valuesSH3, facecolor='blue', edgecolor=\"black\");\n",
    "plt.plot(x_valuesSH3, regress_valuesSH3, \"red\");\n",
    "plt.annotate(line_eqSH3 ,(75,20),fontsize=15,color=\"red\");\n",
    "plt.title('Southern Hemisphere: City Latitude vs. Cloudiness (%)');\n",
    "plt.xlabel('Latitude');\n",
    "plt.ylabel('Cloudiness (%)');\n",
    "plt.grid()\n",
    "plt.show()"
   ]
  },
  {
   "cell_type": "markdown",
   "metadata": {},
   "source": [
    "####  Northern Hemisphere - Wind Speed (mph) vs. Latitude Linear Regression"
   ]
  },
  {
   "cell_type": "code",
   "execution_count": 90,
   "metadata": {},
   "outputs": [
    {
     "name": "stdout",
     "output_type": "stream",
     "text": [
      "The r-value is: -0.21286218766059345\n"
     ]
    },
    {
     "data": {
      "image/png": "[encoded data removed]",
      "text/plain": [
       "<Figure size 432x288 with 1 Axes>"
      ]
     },
     "metadata": {
      "needs_background": "light"
     },
     "output_type": "display_data"
    }
   ],
   "source": [
    "# Northern Hemisphere - Wind Speed (mph) vs. Latitude Linear Regression\n",
    "x_valuesNH4 = northern_hem_city_data['Lat']\n",
    "y_valuesNH4 = northern_hem_city_data['Wind Speed']\n",
    "(slopeNH4, interceptNH4, rvalueNH4, pvalueNH4, stderrNH4) = linregress(x_valuesNH4, y_valuesNH4)\n",
    "regress_valuesNH4 = x_valuesNH4 * slopeNH4 + interceptNH4\n",
    "\n",
    "print(f'The r-value is: {rvalueNH4}')\n",
    "\n",
    "line_eqNH4 = \"y = \" + str(round(slopeNH4,2)) + \"x + \" + str(round(interceptNH4,2))\n",
    "\n",
    "plt.scatter(x_valuesNH4, y_valuesNH4, facecolor='blue', edgecolor=\"black\");\n",
    "plt.plot(x_valuesNH4, regress_valuesNH4, \"red\");\n",
    "plt.annotate(line_eqNH4 ,(-20,27),fontsize=15,color=\"red\");\n",
    "plt.title('Northern Hemisphere: City Latitude vs. Wind Speed (mph)');\n",
    "plt.xlabel('Latitude');\n",
    "plt.ylabel('Wind Speed (mph)');\n",
    "plt.grid()\n",
    "plt.show()"
   ]
  },
  {
   "cell_type": "markdown",
   "metadata": {},
   "source": [
    "####  Southern Hemisphere - Wind Speed (mph) vs. Latitude Linear Regression"
   ]
  },
  {
   "cell_type": "code",
   "execution_count": 91,
   "metadata": {},
   "outputs": [
    {
     "name": "stdout",
     "output_type": "stream",
     "text": [
      "The r-value is: 0.20521054948468623\n"
     ]
    },
    {
     "data": {
      "image/png": "[encoded data removed]",
      "text/plain": [
       "<Figure size 432x288 with 1 Axes>"
      ]
     },
     "metadata": {
      "needs_background": "light"
     },
     "output_type": "display_data"
    }
   ],
   "source": [
    "# Southern Hemisphere - Wind Speed (mph) vs. Latitude Linear Regression\n",
    "x_valuesSH4 = southern_hem_city_data['Lat']\n",
    "y_valuesSH4 = southern_hem_city_data['Wind Speed']\n",
    "(slopeSH4, interceptSH4, rvalueSH4, pvalueSH4, stderrSH4) = linregress(x_valuesSH4, y_valuesSH4)\n",
    "regress_valuesSH4 = x_valuesSH4 * slopeSH4 + interceptSH4\n",
    "\n",
    "print(f'The r-value is: {rvalueSH4}')\n",
    "\n",
    "line_eqSH4 = \"y = \" + str(round(slopeSH4,2)) + \"x + \" + str(round(interceptSH4,2))\n",
    "\n",
    "plt.scatter(x_valuesSH4, y_valuesSH4, facecolor='blue', edgecolor=\"black\");\n",
    "plt.plot(x_valuesSH4, regress_valuesSH4, \"red\");\n",
    "plt.annotate(line_eqSH4 ,(0,25),fontsize=15,color=\"red\");\n",
    "plt.title('Southern Hemisphere: City Latitude vs. Wind Speed (mph)');\n",
    "plt.xlabel('Latitude');\n",
    "plt.ylabel('Wind Speed (mph)');\n",
    "plt.grid()\n",
    "plt.show()"
   ]
  },
  {
   "cell_type": "code",
   "execution_count": null,
   "metadata": {},
   "outputs": [],
   "source": [
    "'The max temp increases the closer you get to latitude = 0 or the equator.'\n",
    "'The further north or south you go, the higher the wind speed. Meaning the lower wind speeds are closer to the equator.'\n",
    "'Cloudiness and humidity appear to be unaffected by the latitude, with humidity always being relatively high and cloudiness being uniformly spead out'"
   ]
  }
 ],
 "metadata": {
  "anaconda-cloud": {},
  "kernel_info": {
   "name": "python3"
  },
  "kernelspec": {
   "display_name": "Python 3",
   "language": "python",
   "name": "python3"
  },
  "language_info": {
   "codemirror_mode": {
    "name": "ipython",
    "version": 3
   },
   "file_extension": ".py",
   "mimetype": "text/x-python",
   "name": "python",
   "nbconvert_exporter": "python",
   "pygments_lexer": "ipython3",
   "version": "3.8.3"
  },
  "latex_envs": {
   "LaTeX_envs_menu_present": true,
   "autoclose": false,
   "autocomplete": true,
   "bibliofile": "biblio.bib",
   "cite_by": "apalike",
   "current_citInitial": 1,
   "eqLabelWithNumbers": true,
   "eqNumInitial": 1,
   "hotkeys": {
    "equation": "Ctrl-E",
    "itemize": "Ctrl-I"
   },
   "labels_anchors": false,
   "latex_user_defs": false,
   "report_style_numbering": false,
   "user_envs_cfg": false
  },
  "nteract": {
   "version": "0.12.3"
  }
 },
 "nbformat": 4,
 "nbformat_minor": 2
}
